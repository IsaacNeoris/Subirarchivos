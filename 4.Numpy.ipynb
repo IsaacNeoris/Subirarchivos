{
 "cells": [
  {
   "cell_type": "code",
   "execution_count": 3,
   "id": "4c048678",
   "metadata": {},
   "outputs": [],
   "source": [
    "import numpy as np #Traer librería y utilizar como np"
   ]
  },
  {
   "cell_type": "code",
   "execution_count": 4,
   "id": "8682f81b",
   "metadata": {},
   "outputs": [],
   "source": [
    "n=[1,2,3]"
   ]
  },
  {
   "cell_type": "code",
   "execution_count": 5,
   "id": "d4af92c5",
   "metadata": {},
   "outputs": [
    {
     "data": {
      "text/plain": [
       "list"
      ]
     },
     "execution_count": 5,
     "metadata": {},
     "output_type": "execute_result"
    }
   ],
   "source": [
    "type(n)"
   ]
  },
  {
   "cell_type": "code",
   "execution_count": 6,
   "id": "f5d99b1a",
   "metadata": {},
   "outputs": [],
   "source": [
    "m=np.array(n) #Transforma lista en array"
   ]
  },
  {
   "cell_type": "code",
   "execution_count": 7,
   "id": "24d8caba",
   "metadata": {},
   "outputs": [
    {
     "data": {
      "text/plain": [
       "numpy.ndarray"
      ]
     },
     "execution_count": 7,
     "metadata": {},
     "output_type": "execute_result"
    }
   ],
   "source": [
    "type(m)"
   ]
  },
  {
   "cell_type": "code",
   "execution_count": 8,
   "id": "494ebe8a",
   "metadata": {},
   "outputs": [
    {
     "data": {
      "text/plain": [
       "array([1, 2, 3])"
      ]
     },
     "execution_count": 8,
     "metadata": {},
     "output_type": "execute_result"
    }
   ],
   "source": [
    "m"
   ]
  },
  {
   "cell_type": "code",
   "execution_count": 9,
   "id": "8c211ae1",
   "metadata": {},
   "outputs": [
    {
     "data": {
      "text/plain": [
       "1"
      ]
     },
     "execution_count": 9,
     "metadata": {},
     "output_type": "execute_result"
    }
   ],
   "source": [
    "m.ndim #Dimensión en filas"
   ]
  },
  {
   "cell_type": "code",
   "execution_count": 10,
   "id": "c8a9d42f",
   "metadata": {},
   "outputs": [
    {
     "data": {
      "text/plain": [
       "(3,)"
      ]
     },
     "execution_count": 10,
     "metadata": {},
     "output_type": "execute_result"
    }
   ],
   "source": [
    "m.shape #Dimensiones"
   ]
  },
  {
   "cell_type": "code",
   "execution_count": 11,
   "id": "04a82baf",
   "metadata": {},
   "outputs": [],
   "source": [
    "m=[1,2,3]\n",
    "n=[3,4,5]"
   ]
  },
  {
   "cell_type": "code",
   "execution_count": 12,
   "id": "39e6bcc2",
   "metadata": {},
   "outputs": [],
   "source": [
    "z=m+n"
   ]
  },
  {
   "cell_type": "code",
   "execution_count": 13,
   "id": "07e4d9b9",
   "metadata": {},
   "outputs": [
    {
     "data": {
      "text/plain": [
       "array([1, 2, 3])"
      ]
     },
     "execution_count": 13,
     "metadata": {},
     "output_type": "execute_result"
    }
   ],
   "source": [
    "a=np.array(m)\n",
    "a"
   ]
  },
  {
   "cell_type": "code",
   "execution_count": 14,
   "id": "d30526bf",
   "metadata": {},
   "outputs": [
    {
     "data": {
      "text/plain": [
       "array([1, 4, 9], dtype=int32)"
      ]
     },
     "execution_count": 14,
     "metadata": {},
     "output_type": "execute_result"
    }
   ],
   "source": [
    "np.square(a) #Cuadrado de cada elemento"
   ]
  },
  {
   "cell_type": "code",
   "execution_count": 15,
   "id": "7340d439",
   "metadata": {},
   "outputs": [],
   "source": [
    "b=np.array([5,6,7])"
   ]
  },
  {
   "cell_type": "code",
   "execution_count": 16,
   "id": "45360227",
   "metadata": {},
   "outputs": [
    {
     "data": {
      "text/plain": [
       "[1, 2, 3, 3, 4, 5]"
      ]
     },
     "execution_count": 16,
     "metadata": {},
     "output_type": "execute_result"
    }
   ],
   "source": [
    "z"
   ]
  },
  {
   "cell_type": "code",
   "execution_count": 17,
   "id": "d9022a29",
   "metadata": {},
   "outputs": [
    {
     "data": {
      "text/plain": [
       "1"
      ]
     },
     "execution_count": 17,
     "metadata": {},
     "output_type": "execute_result"
    }
   ],
   "source": [
    "z[0]"
   ]
  },
  {
   "cell_type": "code",
   "execution_count": 18,
   "id": "c2822d71",
   "metadata": {},
   "outputs": [
    {
     "data": {
      "text/plain": [
       "5"
      ]
     },
     "execution_count": 18,
     "metadata": {},
     "output_type": "execute_result"
    }
   ],
   "source": [
    "z[-1]"
   ]
  },
  {
   "cell_type": "code",
   "execution_count": 19,
   "id": "cf6470f5",
   "metadata": {},
   "outputs": [
    {
     "data": {
      "text/plain": [
       "5"
      ]
     },
     "execution_count": 19,
     "metadata": {},
     "output_type": "execute_result"
    }
   ],
   "source": [
    "b[0]"
   ]
  },
  {
   "cell_type": "code",
   "execution_count": 20,
   "id": "18bea434",
   "metadata": {},
   "outputs": [
    {
     "data": {
      "text/plain": [
       "7"
      ]
     },
     "execution_count": 20,
     "metadata": {},
     "output_type": "execute_result"
    }
   ],
   "source": [
    "b[-1]"
   ]
  },
  {
   "cell_type": "code",
   "execution_count": 21,
   "id": "baae7e96",
   "metadata": {},
   "outputs": [
    {
     "ename": "ValueError",
     "evalue": "invalid literal for int() with base 10: 'letra'",
     "output_type": "error",
     "traceback": [
      "\u001b[1;31m---------------------------------------------------------------------------\u001b[0m",
      "\u001b[1;31mValueError\u001b[0m                                Traceback (most recent call last)",
      "\u001b[1;32mC:\\Users\\ISAAC~1.CED\\AppData\\Local\\Temp/ipykernel_1544/2954580235.py\u001b[0m in \u001b[0;36m<module>\u001b[1;34m\u001b[0m\n\u001b[1;32m----> 1\u001b[1;33m \u001b[0mb\u001b[0m\u001b[1;33m[\u001b[0m\u001b[1;36m1\u001b[0m\u001b[1;33m]\u001b[0m\u001b[1;33m=\u001b[0m\u001b[1;34m'letra'\u001b[0m\u001b[1;33m\u001b[0m\u001b[1;33m\u001b[0m\u001b[0m\n\u001b[0m",
      "\u001b[1;31mValueError\u001b[0m: invalid literal for int() with base 10: 'letra'"
     ]
    }
   ],
   "source": [
    "b[1]='letra'"
   ]
  },
  {
   "cell_type": "code",
   "execution_count": 22,
   "id": "c76b6820",
   "metadata": {},
   "outputs": [],
   "source": [
    "b[1]=10"
   ]
  },
  {
   "cell_type": "code",
   "execution_count": 23,
   "id": "0ea4aea5",
   "metadata": {},
   "outputs": [
    {
     "data": {
      "text/plain": [
       "array([ 5, 10,  7])"
      ]
     },
     "execution_count": 23,
     "metadata": {},
     "output_type": "execute_result"
    }
   ],
   "source": [
    "b"
   ]
  },
  {
   "cell_type": "code",
   "execution_count": 24,
   "id": "8ac855b9",
   "metadata": {},
   "outputs": [
    {
     "data": {
      "text/plain": [
       "array([ 6, 12, 10])"
      ]
     },
     "execution_count": 24,
     "metadata": {},
     "output_type": "execute_result"
    }
   ],
   "source": [
    "c=a+b\n",
    "c"
   ]
  },
  {
   "cell_type": "code",
   "execution_count": 25,
   "id": "a2602e4b",
   "metadata": {},
   "outputs": [
    {
     "data": {
      "text/plain": [
       "array([1, 2, 3])"
      ]
     },
     "execution_count": 25,
     "metadata": {},
     "output_type": "execute_result"
    }
   ],
   "source": [
    "a"
   ]
  },
  {
   "cell_type": "code",
   "execution_count": 26,
   "id": "dea98872",
   "metadata": {},
   "outputs": [
    {
     "data": {
      "text/plain": [
       "array([0, 1, 2])"
      ]
     },
     "execution_count": 26,
     "metadata": {},
     "output_type": "execute_result"
    }
   ],
   "source": [
    "a-1"
   ]
  },
  {
   "cell_type": "code",
   "execution_count": 27,
   "id": "c5f51fda",
   "metadata": {},
   "outputs": [
    {
     "data": {
      "text/plain": [
       "array([1, 2, 3])"
      ]
     },
     "execution_count": 27,
     "metadata": {},
     "output_type": "execute_result"
    }
   ],
   "source": [
    "np.absolute(a) #Valor absoluto"
   ]
  },
  {
   "cell_type": "code",
   "execution_count": 28,
   "id": "55c4ca94",
   "metadata": {},
   "outputs": [
    {
     "data": {
      "text/plain": [
       "array([ 7,  8,  3, 12, 14, 15])"
      ]
     },
     "execution_count": 28,
     "metadata": {},
     "output_type": "execute_result"
    }
   ],
   "source": [
    "np.maximum([1, 2, 3, 12, 14, 15],[7, 8, 3, 3, 4, 5]) #Max de cada posición"
   ]
  },
  {
   "cell_type": "code",
   "execution_count": 29,
   "id": "10021371",
   "metadata": {},
   "outputs": [
    {
     "data": {
      "text/plain": [
       "array([1, 2, 3, 3, 4, 5])"
      ]
     },
     "execution_count": 29,
     "metadata": {},
     "output_type": "execute_result"
    }
   ],
   "source": [
    "np.minimum([1, 2, 3, 12, 14, 15],[7, 8, 3, 3, 4, 5])"
   ]
  },
  {
   "cell_type": "code",
   "execution_count": 30,
   "id": "23e26623",
   "metadata": {},
   "outputs": [],
   "source": [
    "d=np.array([17, 27, 35, 12, 14, 15])"
   ]
  },
  {
   "cell_type": "code",
   "execution_count": 31,
   "id": "1b72b774",
   "metadata": {},
   "outputs": [],
   "source": [
    "d.sort()"
   ]
  },
  {
   "cell_type": "code",
   "execution_count": 32,
   "id": "90c7c85f",
   "metadata": {},
   "outputs": [
    {
     "data": {
      "text/plain": [
       "array([12, 14, 15, 17, 27, 35])"
      ]
     },
     "execution_count": 32,
     "metadata": {},
     "output_type": "execute_result"
    }
   ],
   "source": [
    "d"
   ]
  },
  {
   "cell_type": "code",
   "execution_count": 33,
   "id": "b9abdbf2",
   "metadata": {},
   "outputs": [
    {
     "data": {
      "text/plain": [
       "array([ 5, 12, 14, 15, 17, 27, 35])"
      ]
     },
     "execution_count": 33,
     "metadata": {},
     "output_type": "execute_result"
    }
   ],
   "source": [
    "np.insert(d,0,5,axis=0)"
   ]
  },
  {
   "cell_type": "code",
   "execution_count": 34,
   "id": "06726cf8",
   "metadata": {},
   "outputs": [
    {
     "data": {
      "text/plain": [
       "array([ 1,  2,  3,  5, 10,  7])"
      ]
     },
     "execution_count": 34,
     "metadata": {},
     "output_type": "execute_result"
    }
   ],
   "source": [
    "np.append(a,b)"
   ]
  },
  {
   "cell_type": "code",
   "execution_count": 35,
   "id": "4a6e2066",
   "metadata": {},
   "outputs": [
    {
     "data": {
      "text/plain": [
       "array([ 1,  2,  3,  5, 10,  7])"
      ]
     },
     "execution_count": 35,
     "metadata": {},
     "output_type": "execute_result"
    }
   ],
   "source": [
    "np.concatenate((a,b),axis=0)"
   ]
  },
  {
   "cell_type": "code",
   "execution_count": 36,
   "id": "666526df",
   "metadata": {},
   "outputs": [],
   "source": [
    "e=np.array(range(3,31))"
   ]
  },
  {
   "cell_type": "code",
   "execution_count": 37,
   "id": "06dec34a",
   "metadata": {},
   "outputs": [
    {
     "data": {
      "text/plain": [
       "array([ 3,  4,  5,  6,  7,  8,  9, 10, 11, 12, 13, 14, 15, 16, 17, 18, 19,\n",
       "       20, 21, 22, 23, 24, 25, 26, 27, 28, 29, 30])"
      ]
     },
     "execution_count": 37,
     "metadata": {},
     "output_type": "execute_result"
    }
   ],
   "source": [
    "e"
   ]
  },
  {
   "cell_type": "code",
   "execution_count": 38,
   "id": "61436032",
   "metadata": {},
   "outputs": [],
   "source": [
    "f=np.array([0,1,2,3,4,0,1,2,3,4])"
   ]
  },
  {
   "cell_type": "code",
   "execution_count": 39,
   "id": "66d683ae",
   "metadata": {},
   "outputs": [
    {
     "data": {
      "text/plain": [
       "array([0, 0, 1, 1, 2, 2, 3, 3, 4, 4])"
      ]
     },
     "execution_count": 39,
     "metadata": {},
     "output_type": "execute_result"
    }
   ],
   "source": [
    "f.sort()\n",
    "f"
   ]
  },
  {
   "cell_type": "code",
   "execution_count": 40,
   "id": "cf726c75",
   "metadata": {},
   "outputs": [
    {
     "data": {
      "text/plain": [
       "array([[ 1.  ,  2.03,  3.  ],\n",
       "       [13.  ,  0.1 , 15.3 ]])"
      ]
     },
     "execution_count": 40,
     "metadata": {},
     "output_type": "execute_result"
    }
   ],
   "source": [
    "g=np.array([[1,2.03,3],[13,0.1,15.3]])\n",
    "g"
   ]
  },
  {
   "cell_type": "code",
   "execution_count": 41,
   "id": "e5d5af74",
   "metadata": {},
   "outputs": [
    {
     "data": {
      "text/plain": [
       "(2, 3)"
      ]
     },
     "execution_count": 41,
     "metadata": {},
     "output_type": "execute_result"
    }
   ],
   "source": [
    "g.shape #Dimensiones mxn"
   ]
  },
  {
   "cell_type": "code",
   "execution_count": 42,
   "id": "0595127d",
   "metadata": {},
   "outputs": [
    {
     "data": {
      "text/plain": [
       "2"
      ]
     },
     "execution_count": 42,
     "metadata": {},
     "output_type": "execute_result"
    }
   ],
   "source": [
    "g.ndim #Dimension en filas"
   ]
  },
  {
   "cell_type": "code",
   "execution_count": 43,
   "id": "32f7d3d8",
   "metadata": {},
   "outputs": [
    {
     "data": {
      "text/plain": [
       "15.3"
      ]
     },
     "execution_count": 43,
     "metadata": {},
     "output_type": "execute_result"
    }
   ],
   "source": [
    "g[-1,-1]"
   ]
  },
  {
   "cell_type": "code",
   "execution_count": 44,
   "id": "86831942",
   "metadata": {},
   "outputs": [
    {
     "data": {
      "text/plain": [
       "array([[ 1.  ,  2.03,  3.  , 13.  ,  0.1 , 15.3 ,  1.  ,  2.03,  3.  ,\n",
       "        13.  ],\n",
       "       [ 0.1 , 15.3 ,  1.  ,  2.03,  3.  , 13.  ,  0.1 , 15.3 ,  1.  ,\n",
       "         2.03],\n",
       "       [ 3.  , 13.  ,  0.1 , 15.3 ,  1.  ,  2.03,  3.  , 13.  ,  0.1 ,\n",
       "        15.3 ],\n",
       "       [ 1.  ,  2.03,  3.  , 13.  ,  0.1 , 15.3 ,  1.  ,  2.03,  3.  ,\n",
       "        13.  ],\n",
       "       [ 0.1 , 15.3 ,  1.  ,  2.03,  3.  , 13.  ,  0.1 , 15.3 ,  1.  ,\n",
       "         2.03],\n",
       "       [ 3.  , 13.  ,  0.1 , 15.3 ,  1.  ,  2.03,  3.  , 13.  ,  0.1 ,\n",
       "        15.3 ],\n",
       "       [ 1.  ,  2.03,  3.  , 13.  ,  0.1 , 15.3 ,  1.  ,  2.03,  3.  ,\n",
       "        13.  ],\n",
       "       [ 0.1 , 15.3 ,  1.  ,  2.03,  3.  , 13.  ,  0.1 , 15.3 ,  1.  ,\n",
       "         2.03],\n",
       "       [ 3.  , 13.  ,  0.1 , 15.3 ,  1.  ,  2.03,  3.  , 13.  ,  0.1 ,\n",
       "        15.3 ],\n",
       "       [ 1.  ,  2.03,  3.  , 13.  ,  0.1 , 15.3 ,  1.  ,  2.03,  3.  ,\n",
       "        13.  ]])"
      ]
     },
     "execution_count": 44,
     "metadata": {},
     "output_type": "execute_result"
    }
   ],
   "source": [
    "np.resize(g,(10,10))"
   ]
  },
  {
   "cell_type": "code",
   "execution_count": 45,
   "id": "af29957c",
   "metadata": {},
   "outputs": [
    {
     "data": {
      "text/plain": [
       "array([1, 3, 5, 7, 9])"
      ]
     },
     "execution_count": 45,
     "metadata": {},
     "output_type": "execute_result"
    }
   ],
   "source": [
    "h=np.arange(1,10,2) #Crea array de 1 a 10 con saltos de 2\n",
    "h"
   ]
  },
  {
   "cell_type": "code",
   "execution_count": 46,
   "id": "40781f51",
   "metadata": {},
   "outputs": [
    {
     "data": {
      "text/plain": [
       "array([1, 2, 3, 4, 5, 6, 7, 8, 9])"
      ]
     },
     "execution_count": 46,
     "metadata": {},
     "output_type": "execute_result"
    }
   ],
   "source": [
    "i=np.arange(1,10)\n",
    "i"
   ]
  },
  {
   "cell_type": "code",
   "execution_count": 68,
   "id": "e2521bbd",
   "metadata": {},
   "outputs": [
    {
     "data": {
      "text/plain": [
       "array([[1, 2, 3, 4, 5, 6, 7, 8, 9],\n",
       "       [1, 2, 3, 4, 5, 6, 7, 8, 9]])"
      ]
     },
     "execution_count": 68,
     "metadata": {},
     "output_type": "execute_result"
    }
   ],
   "source": [
    "ii=np.array([i,i])\n",
    "ii"
   ]
  },
  {
   "cell_type": "code",
   "execution_count": 48,
   "id": "4a8c3be9",
   "metadata": {},
   "outputs": [
    {
     "data": {
      "text/plain": [
       "array([[ 1,  2,  3,  4,  5],\n",
       "       [ 6,  7,  8,  9, 10],\n",
       "       [11, 12, 13, 14, 15],\n",
       "       [16, 17, 18, 19, 20],\n",
       "       [21, 22, 23, 24, 25]])"
      ]
     },
     "execution_count": 48,
     "metadata": {},
     "output_type": "execute_result"
    }
   ],
   "source": [
    "j=np.reshape(np.array(range(1,26)),(5,5))\n",
    "j"
   ]
  },
  {
   "cell_type": "code",
   "execution_count": 49,
   "id": "03db932e",
   "metadata": {},
   "outputs": [
    {
     "data": {
      "text/plain": [
       "array([1, 2, 3])"
      ]
     },
     "execution_count": 49,
     "metadata": {},
     "output_type": "execute_result"
    }
   ],
   "source": [
    "k=np.asarray([1,2,3]) #Crea arreglo desde la lista\n",
    "k"
   ]
  },
  {
   "cell_type": "code",
   "execution_count": 50,
   "id": "baf01388",
   "metadata": {},
   "outputs": [
    {
     "data": {
      "text/plain": [
       "dtype('int32')"
      ]
     },
     "execution_count": 50,
     "metadata": {},
     "output_type": "execute_result"
    }
   ],
   "source": [
    "k.dtype"
   ]
  },
  {
   "cell_type": "code",
   "execution_count": 51,
   "id": "69a44952",
   "metadata": {},
   "outputs": [],
   "source": [
    "l=k.astype('complex64') #Cambia propiedad a complex64"
   ]
  },
  {
   "cell_type": "code",
   "execution_count": 52,
   "id": "a8d67eeb",
   "metadata": {},
   "outputs": [
    {
     "data": {
      "text/plain": [
       "dtype('complex64')"
      ]
     },
     "execution_count": 52,
     "metadata": {},
     "output_type": "execute_result"
    }
   ],
   "source": [
    "l.dtype"
   ]
  },
  {
   "cell_type": "code",
   "execution_count": 53,
   "id": "22cfb424",
   "metadata": {},
   "outputs": [
    {
     "data": {
      "text/plain": [
       "array([1.+0.j, 2.+0.j, 3.+0.j], dtype=complex64)"
      ]
     },
     "execution_count": 53,
     "metadata": {},
     "output_type": "execute_result"
    }
   ],
   "source": [
    "l"
   ]
  },
  {
   "cell_type": "code",
   "execution_count": 54,
   "id": "7b5310f2",
   "metadata": {},
   "outputs": [
    {
     "data": {
      "text/plain": [
       "array([[1, 0],\n",
       "       [0, 1]])"
      ]
     },
     "execution_count": 54,
     "metadata": {},
     "output_type": "execute_result"
    }
   ],
   "source": [
    "np.eye(2, dtype=int) #Crea array de 1s y 0s de n dimensiones"
   ]
  },
  {
   "cell_type": "code",
   "execution_count": 69,
   "id": "05e06e72",
   "metadata": {},
   "outputs": [
    {
     "data": {
      "text/plain": [
       "array([[0., 1., 0.],\n",
       "       [0., 0., 1.]])"
      ]
     },
     "execution_count": 69,
     "metadata": {},
     "output_type": "execute_result"
    }
   ],
   "source": [
    "np.eye(2,3, k=1) #Crea array de 2x3 desplazando el 1 un lugar a la derecha"
   ]
  },
  {
   "cell_type": "code",
   "execution_count": 71,
   "id": "ec178fc0",
   "metadata": {},
   "outputs": [
    {
     "data": {
      "text/plain": [
       "array([[0., 1., 0.],\n",
       "       [0., 0., 1.]])"
      ]
     },
     "execution_count": 71,
     "metadata": {},
     "output_type": "execute_result"
    }
   ],
   "source": [
    "np.eye(N=2,M=3,k=1)"
   ]
  },
  {
   "cell_type": "code",
   "execution_count": 57,
   "id": "6cea6482",
   "metadata": {},
   "outputs": [
    {
     "data": {
      "text/plain": [
       "array([0., 0., 0.])"
      ]
     },
     "execution_count": 57,
     "metadata": {},
     "output_type": "execute_result"
    }
   ],
   "source": [
    "np.zeros(3) #Arreglo en ceros"
   ]
  },
  {
   "cell_type": "code",
   "execution_count": 58,
   "id": "7e7c0425",
   "metadata": {},
   "outputs": [
    {
     "data": {
      "text/plain": [
       "array([[1., 1., 1.],\n",
       "       [1., 1., 1.]])"
      ]
     },
     "execution_count": 58,
     "metadata": {},
     "output_type": "execute_result"
    }
   ],
   "source": [
    "np.ones (shape=(2,3)) #Arreglo en 1s"
   ]
  },
  {
   "cell_type": "code",
   "execution_count": 59,
   "id": "899c3faa",
   "metadata": {},
   "outputs": [
    {
     "data": {
      "text/plain": [
       "array([[0.00e+000, 0.00e+000, 0.00e+000],\n",
       "       [0.00e+000, 0.00e+000, 6.64e-321],\n",
       "       [0.00e+000, 0.00e+000, 0.00e+000]])"
      ]
     },
     "execution_count": 59,
     "metadata": {},
     "output_type": "execute_result"
    }
   ],
   "source": [
    "np.empty(shape=(3,3)) #Arreglo vacío"
   ]
  },
  {
   "cell_type": "code",
   "execution_count": 60,
   "id": "c89df547",
   "metadata": {},
   "outputs": [
    {
     "data": {
      "text/plain": [
       "array([[False, False, False],\n",
       "       [False, False, False]])"
      ]
     },
     "execution_count": 60,
     "metadata": {},
     "output_type": "execute_result"
    }
   ],
   "source": [
    "np.full(shape=(2,3), fill_value=False) #Arreglo con valor definido"
   ]
  },
  {
   "cell_type": "code",
   "execution_count": 61,
   "id": "86ae424b",
   "metadata": {},
   "outputs": [
    {
     "data": {
      "text/plain": [
       "array([[1., 0., 0.],\n",
       "       [0., 1., 0.],\n",
       "       [0., 0., 1.]])"
      ]
     },
     "execution_count": 61,
     "metadata": {},
     "output_type": "execute_result"
    }
   ],
   "source": [
    "np.identity(3) #Matriz identidad de dimensión n"
   ]
  },
  {
   "cell_type": "code",
   "execution_count": 62,
   "id": "5941fa98",
   "metadata": {},
   "outputs": [],
   "source": [
    "o=np.array(range(0,9))"
   ]
  },
  {
   "cell_type": "code",
   "execution_count": 63,
   "id": "e118a0fe",
   "metadata": {},
   "outputs": [
    {
     "data": {
      "text/plain": [
       "array([[0, 1, 2],\n",
       "       [3, 4, 5],\n",
       "       [6, 7, 8]])"
      ]
     },
     "execution_count": 63,
     "metadata": {},
     "output_type": "execute_result"
    }
   ],
   "source": [
    "p=np.reshape(o,(3,3))\n",
    "p"
   ]
  },
  {
   "cell_type": "code",
   "execution_count": 64,
   "id": "6734a55a",
   "metadata": {},
   "outputs": [
    {
     "data": {
      "text/plain": [
       "array([[1., 0., 0., 0., 0., 0.],\n",
       "       [0., 1., 0., 0., 0., 0.],\n",
       "       [0., 0., 1., 0., 0., 0.],\n",
       "       [0., 0., 0., 1., 0., 0.],\n",
       "       [0., 0., 0., 0., 1., 0.],\n",
       "       [0., 0., 0., 0., 0., 1.]])"
      ]
     },
     "execution_count": 64,
     "metadata": {},
     "output_type": "execute_result"
    }
   ],
   "source": [
    "np.identity(6)"
   ]
  },
  {
   "cell_type": "code",
   "execution_count": null,
   "id": "807ef830",
   "metadata": {},
   "outputs": [],
   "source": []
  }
 ],
 "metadata": {
  "kernelspec": {
   "display_name": "Python 3 (ipykernel)",
   "language": "python",
   "name": "python3"
  },
  "language_info": {
   "codemirror_mode": {
    "name": "ipython",
    "version": 3
   },
   "file_extension": ".py",
   "mimetype": "text/x-python",
   "name": "python",
   "nbconvert_exporter": "python",
   "pygments_lexer": "ipython3",
   "version": "3.9.7"
  }
 },
 "nbformat": 4,
 "nbformat_minor": 5
}
