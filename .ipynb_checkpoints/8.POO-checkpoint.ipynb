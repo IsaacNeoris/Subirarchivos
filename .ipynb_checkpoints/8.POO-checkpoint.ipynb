{
 "cells": [
  {
   "cell_type": "markdown",
   "id": "5ad72656",
   "metadata": {},
   "source": [
    "Organizar el código fuente"
   ]
  },
  {
   "cell_type": "markdown",
   "id": "9f340b0a",
   "metadata": {},
   "source": [
    "Reutilizar el código fuente en similares contextos"
   ]
  },
  {
   "cell_type": "code",
   "execution_count": 1,
   "id": "3a8eb7e1",
   "metadata": {},
   "outputs": [],
   "source": [
    "class Persona: #Definir clase\n",
    "    '''Clase que representa una persona'''\n",
    "    cedula= 'N/A'\n",
    "    nombre= 'Isaac'\n",
    "    apellido= 'Hernández'\n",
    "    genero= 'M'"
   ]
  },
  {
   "cell_type": "code",
   "execution_count": 2,
   "id": "85253bdb",
   "metadata": {},
   "outputs": [],
   "source": [
    "Emp1=Persona #Asignar"
   ]
  },
  {
   "cell_type": "code",
   "execution_count": 3,
   "id": "7d1a4021",
   "metadata": {},
   "outputs": [
    {
     "data": {
      "text/plain": [
       "['__class__',\n",
       " '__delattr__',\n",
       " '__dict__',\n",
       " '__dir__',\n",
       " '__doc__',\n",
       " '__eq__',\n",
       " '__format__',\n",
       " '__ge__',\n",
       " '__getattribute__',\n",
       " '__gt__',\n",
       " '__hash__',\n",
       " '__init__',\n",
       " '__init_subclass__',\n",
       " '__le__',\n",
       " '__lt__',\n",
       " '__module__',\n",
       " '__ne__',\n",
       " '__new__',\n",
       " '__reduce__',\n",
       " '__reduce_ex__',\n",
       " '__repr__',\n",
       " '__setattr__',\n",
       " '__sizeof__',\n",
       " '__str__',\n",
       " '__subclasshook__',\n",
       " '__weakref__',\n",
       " 'apellido',\n",
       " 'cedula',\n",
       " 'genero',\n",
       " 'nombre']"
      ]
     },
     "execution_count": 3,
     "metadata": {},
     "output_type": "execute_result"
    }
   ],
   "source": [
    "dir(Emp1)"
   ]
  },
  {
   "cell_type": "code",
   "execution_count": 4,
   "id": "599edaec",
   "metadata": {},
   "outputs": [
    {
     "data": {
      "text/plain": [
       "'N/A'"
      ]
     },
     "execution_count": 4,
     "metadata": {},
     "output_type": "execute_result"
    }
   ],
   "source": [
    "Emp1.cedula #Buscar valor cedula"
   ]
  },
  {
   "cell_type": "code",
   "execution_count": 7,
   "id": "6f871cf5",
   "metadata": {},
   "outputs": [
    {
     "name": "stdout",
     "output_type": "stream",
     "text": [
      "El objeto de la clase Persona,Clase que representa una persona.\n"
     ]
    }
   ],
   "source": [
    "print('El objeto de la clase '+Emp1.__name__+','+Emp1.__doc__+'.')"
   ]
  },
  {
   "cell_type": "code",
   "execution_count": 8,
   "id": "841531ac",
   "metadata": {},
   "outputs": [
    {
     "data": {
      "text/plain": [
       "'Persona'"
      ]
     },
     "execution_count": 8,
     "metadata": {},
     "output_type": "execute_result"
    }
   ],
   "source": [
    "Emp1.__name__"
   ]
  },
  {
   "cell_type": "code",
   "execution_count": 9,
   "id": "cb942a05",
   "metadata": {},
   "outputs": [
    {
     "data": {
      "text/plain": [
       "'Clase que representa una persona'"
      ]
     },
     "execution_count": 9,
     "metadata": {},
     "output_type": "execute_result"
    }
   ],
   "source": [
    "Emp1.__doc__"
   ]
  },
  {
   "cell_type": "code",
   "execution_count": 10,
   "id": "5103d6d1",
   "metadata": {},
   "outputs": [],
   "source": [
    "class Persona:\n",
    "    '''Clase que representa una persona'''\n",
    "    cedula= 'N/A'\n",
    "    nombre= 'Isaac'\n",
    "    apellido= 'Hernández'\n",
    "    genero= 'M'\n",
    "    def hablar(self,mensaje):\n",
    "        '''Mensaje de saludo'''\n",
    "        return mensaje"
   ]
  },
  {
   "cell_type": "code",
   "execution_count": 11,
   "id": "0ee74b9a",
   "metadata": {},
   "outputs": [],
   "source": [
    "Emp2=Persona"
   ]
  },
  {
   "cell_type": "code",
   "execution_count": 12,
   "id": "34596a82",
   "metadata": {},
   "outputs": [
    {
     "data": {
      "text/plain": [
       "'Pertenezco a la clase Persona.'"
      ]
     },
     "execution_count": 12,
     "metadata": {},
     "output_type": "execute_result"
    }
   ],
   "source": [
    "Persona().hablar('Pertenezco a la clase {0}.'.format(Emp2.__name__))"
   ]
  },
  {
   "cell_type": "code",
   "execution_count": 13,
   "id": "9c5f710c",
   "metadata": {},
   "outputs": [
    {
     "data": {
      "text/plain": [
       "method"
      ]
     },
     "execution_count": 13,
     "metadata": {},
     "output_type": "execute_result"
    }
   ],
   "source": [
    "type(Persona().hablar)"
   ]
  },
  {
   "cell_type": "code",
   "execution_count": 14,
   "id": "ce692ecd",
   "metadata": {},
   "outputs": [
    {
     "data": {
      "text/plain": [
       "'Mensaje de saludo'"
      ]
     },
     "execution_count": 14,
     "metadata": {},
     "output_type": "execute_result"
    }
   ],
   "source": [
    "Persona().hablar.__doc__"
   ]
  },
  {
   "cell_type": "code",
   "execution_count": 15,
   "id": "61abadc9",
   "metadata": {},
   "outputs": [
    {
     "data": {
      "text/plain": [
       "<function __main__.Persona.hablar(self, mensaje)>"
      ]
     },
     "execution_count": 15,
     "metadata": {},
     "output_type": "execute_result"
    }
   ],
   "source": [
    "Emp2.hablar"
   ]
  },
  {
   "cell_type": "code",
   "execution_count": 85,
   "id": "1f45d01f",
   "metadata": {},
   "outputs": [],
   "source": [
    "class Persona:\n",
    "    '''Clase que representa una persona'''\n",
    "    def __init__(self, cedula, nombre, apellido, genero): #Definir init en clase padre\n",
    "        self.cedula= cedula\n",
    "        self.nombre= nombre\n",
    "        self.apellido= apellido\n",
    "        self.genero= genero\n",
    "        \n",
    "    def hablar(self,mensaje):\n",
    "        '''Mensaje de saludo'''\n",
    "        return mensaje"
   ]
  },
  {
   "cell_type": "code",
   "execution_count": 105,
   "id": "2b8a74ec",
   "metadata": {},
   "outputs": [],
   "source": [
    "class Superv(Persona):\n",
    "    '''Clase que representa Supervisor'''\n",
    "    \n",
    "    def __init__(self, cedula, nombre, apellido, genero, rol):\n",
    "        '''Constructor de clase supervisor'''\n",
    "        \n",
    "        Persona.__init__(self, cedula, nombre, apellido, genero) #Llama al constructor de clase persona\n",
    "        self.rol=rol #Nuevo atributo de clase supervisor\n",
    "        self.tareas=['10','11','12','13'] #Nuevo atributo de clase supervisor\n",
    "        \n",
    "    def __str__(self):\n",
    "        '''Devuelve cadena representativa'''\n",
    "        \n",
    "        return\"%s: %s %s, rol: '%s', sus tareas: %s\" %(\n",
    "            self.__doc__[21:32], self.nombre, self.apellido,\n",
    "            self.rol, self.consulta_tareas())\n",
    "    \n",
    "    def consulta_tareas(self):\n",
    "        '''Mostrar tareas del supervisor'''\n",
    "        \n",
    "        return ', '.join(self.tareas)"
   ]
  },
  {
   "cell_type": "code",
   "execution_count": 106,
   "id": "17c6c7aa",
   "metadata": {},
   "outputs": [],
   "source": [
    "Emp2=Persona('a','b','c','d')"
   ]
  },
  {
   "cell_type": "code",
   "execution_count": 107,
   "id": "79157f3d",
   "metadata": {},
   "outputs": [
    {
     "data": {
      "text/plain": [
       "['__class__',\n",
       " '__delattr__',\n",
       " '__dict__',\n",
       " '__dir__',\n",
       " '__doc__',\n",
       " '__eq__',\n",
       " '__format__',\n",
       " '__ge__',\n",
       " '__getattribute__',\n",
       " '__gt__',\n",
       " '__hash__',\n",
       " '__init__',\n",
       " '__init_subclass__',\n",
       " '__le__',\n",
       " '__lt__',\n",
       " '__module__',\n",
       " '__ne__',\n",
       " '__new__',\n",
       " '__reduce__',\n",
       " '__reduce_ex__',\n",
       " '__repr__',\n",
       " '__setattr__',\n",
       " '__sizeof__',\n",
       " '__str__',\n",
       " '__subclasshook__',\n",
       " '__weakref__',\n",
       " 'apellido',\n",
       " 'cedula',\n",
       " 'genero',\n",
       " 'hablar',\n",
       " 'nombre']"
      ]
     },
     "execution_count": 107,
     "metadata": {},
     "output_type": "execute_result"
    }
   ],
   "source": [
    "dir(Emp2)"
   ]
  },
  {
   "cell_type": "code",
   "execution_count": 108,
   "id": "ce22d82c",
   "metadata": {},
   "outputs": [
    {
     "data": {
      "text/plain": [
       "'a'"
      ]
     },
     "execution_count": 108,
     "metadata": {},
     "output_type": "execute_result"
    }
   ],
   "source": [
    "Emp2.cedula"
   ]
  },
  {
   "cell_type": "code",
   "execution_count": 109,
   "id": "dd770ef6",
   "metadata": {},
   "outputs": [],
   "source": [
    "Sup1=Superv('a','b','c','d','e')"
   ]
  },
  {
   "cell_type": "code",
   "execution_count": 110,
   "id": "bc4a92f4",
   "metadata": {},
   "outputs": [
    {
     "data": {
      "text/plain": [
       "['__class__',\n",
       " '__delattr__',\n",
       " '__dict__',\n",
       " '__dir__',\n",
       " '__doc__',\n",
       " '__eq__',\n",
       " '__format__',\n",
       " '__ge__',\n",
       " '__getattribute__',\n",
       " '__gt__',\n",
       " '__hash__',\n",
       " '__init__',\n",
       " '__init_subclass__',\n",
       " '__le__',\n",
       " '__lt__',\n",
       " '__module__',\n",
       " '__ne__',\n",
       " '__new__',\n",
       " '__reduce__',\n",
       " '__reduce_ex__',\n",
       " '__repr__',\n",
       " '__setattr__',\n",
       " '__sizeof__',\n",
       " '__str__',\n",
       " '__subclasshook__',\n",
       " '__weakref__',\n",
       " 'apellido',\n",
       " 'cedula',\n",
       " 'consulta_tareas',\n",
       " 'genero',\n",
       " 'hablar',\n",
       " 'nombre',\n",
       " 'rol',\n",
       " 'tareas']"
      ]
     },
     "execution_count": 110,
     "metadata": {},
     "output_type": "execute_result"
    }
   ],
   "source": [
    "dir(Sup1)"
   ]
  },
  {
   "cell_type": "code",
   "execution_count": 111,
   "id": "f1b7f2e7",
   "metadata": {},
   "outputs": [
    {
     "data": {
      "text/plain": [
       "'a'"
      ]
     },
     "execution_count": 111,
     "metadata": {},
     "output_type": "execute_result"
    }
   ],
   "source": [
    "Sup1.cedula"
   ]
  },
  {
   "cell_type": "code",
   "execution_count": 112,
   "id": "46b1fb2f",
   "metadata": {},
   "outputs": [
    {
     "name": "stdout",
     "output_type": "stream",
     "text": [
      "\n",
      "Supervisor: b c, rol: 'e', sus tareas: 10, 11, 12, 13\n",
      "\n"
     ]
    }
   ],
   "source": [
    "print('\\n'+str(Sup1)+'\\n')"
   ]
  },
  {
   "cell_type": "code",
   "execution_count": 113,
   "id": "c70042d1",
   "metadata": {},
   "outputs": [
    {
     "name": "stdout",
     "output_type": "stream",
     "text": [
      "Ingrese el primer número: 5\n",
      "Ingrese el segundo número: 2\n",
      "La sumatoria es igual a:  7.0\n",
      "La diferencia es igual a:  3.0\n",
      "La multiplicación es igual a:  10.0\n",
      "La división es igual a:  2.5\n"
     ]
    }
   ],
   "source": [
    "class calcu:\n",
    "    def __init__(self,num1,num2):\n",
    "        self.num1= float(num1)\n",
    "        self.num2= float(num2)\n",
    "    \n",
    "    def suma(self):\n",
    "        suma=self.num1+self.num2\n",
    "        print('La sumatoria es igual a: ', suma)\n",
    "        \n",
    "    def resta(self):\n",
    "        resta=self.num1-self.num2\n",
    "        print('La diferencia es igual a: ',resta)\n",
    "        \n",
    "    def multiplica(self):\n",
    "        multiplica=self.num1*self.num2\n",
    "        print('La multiplicación es igual a: ',multiplica)\n",
    "    \n",
    "    def divide(self):\n",
    "        divide=self.num1/self.num2\n",
    "        print('La división es igual a: ',divide)\n",
    "        \n",
    "num1=input('Ingrese el primer número: ')\n",
    "num2=input('Ingrese el segundo número: ')\n",
    "\n",
    "calcu=calcu(num1,num2)\n",
    "calcu.suma()\n",
    "calcu.resta()\n",
    "calcu.multiplica()\n",
    "calcu.divide()"
   ]
  },
  {
   "cell_type": "code",
   "execution_count": null,
   "id": "40f91bcc",
   "metadata": {},
   "outputs": [],
   "source": []
  }
 ],
 "metadata": {
  "kernelspec": {
   "display_name": "Python 3 (ipykernel)",
   "language": "python",
   "name": "python3"
  },
  "language_info": {
   "codemirror_mode": {
    "name": "ipython",
    "version": 3
   },
   "file_extension": ".py",
   "mimetype": "text/x-python",
   "name": "python",
   "nbconvert_exporter": "python",
   "pygments_lexer": "ipython3",
   "version": "3.9.7"
  }
 },
 "nbformat": 4,
 "nbformat_minor": 5
}
