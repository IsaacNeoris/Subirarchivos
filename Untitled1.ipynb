{
 "cells": [
  {
   "cell_type": "code",
   "execution_count": 1,
   "id": "f3146ee9",
   "metadata": {},
   "outputs": [],
   "source": [
    "#Definir clase\n",
    "class Persona:\n",
    "    '''Clase para representar a una persona'''\n",
    "    cedula= 'N/A'\n",
    "    nombre= 'Isaac'\n",
    "    apellido= 'Hernández'\n",
    "    genero= 'M'"
   ]
  },
  {
   "cell_type": "code",
   "execution_count": 2,
   "id": "2e53a5b9",
   "metadata": {},
   "outputs": [],
   "source": [
    "Emp1=Persona #Asignar a la persona"
   ]
  },
  {
   "cell_type": "code",
   "execution_count": 3,
   "id": "c6ba9fe5",
   "metadata": {},
   "outputs": [
    {
     "data": {
      "text/plain": [
       "['__class__',\n",
       " '__delattr__',\n",
       " '__dict__',\n",
       " '__dir__',\n",
       " '__doc__',\n",
       " '__eq__',\n",
       " '__format__',\n",
       " '__ge__',\n",
       " '__getattribute__',\n",
       " '__gt__',\n",
       " '__hash__',\n",
       " '__init__',\n",
       " '__init_subclass__',\n",
       " '__le__',\n",
       " '__lt__',\n",
       " '__module__',\n",
       " '__ne__',\n",
       " '__new__',\n",
       " '__reduce__',\n",
       " '__reduce_ex__',\n",
       " '__repr__',\n",
       " '__setattr__',\n",
       " '__sizeof__',\n",
       " '__str__',\n",
       " '__subclasshook__',\n",
       " '__weakref__',\n",
       " 'apellido',\n",
       " 'cedula',\n",
       " 'genero',\n",
       " 'nombre']"
      ]
     },
     "execution_count": 3,
     "metadata": {},
     "output_type": "execute_result"
    }
   ],
   "source": [
    "dir(Emp1)"
   ]
  },
  {
   "cell_type": "code",
   "execution_count": 4,
   "id": "91486577",
   "metadata": {},
   "outputs": [
    {
     "data": {
      "text/plain": [
       "'N/A'"
      ]
     },
     "execution_count": 4,
     "metadata": {},
     "output_type": "execute_result"
    }
   ],
   "source": [
    "Emp1.cedula #Buscar valor de cedula"
   ]
  },
  {
   "cell_type": "code",
   "execution_count": null,
   "id": "a216d140",
   "metadata": {},
   "outputs": [],
   "source": []
  }
 ],
 "metadata": {
  "kernelspec": {
   "display_name": "Python 3 (ipykernel)",
   "language": "python",
   "name": "python3"
  },
  "language_info": {
   "codemirror_mode": {
    "name": "ipython",
    "version": 3
   },
   "file_extension": ".py",
   "mimetype": "text/x-python",
   "name": "python",
   "nbconvert_exporter": "python",
   "pygments_lexer": "ipython3",
   "version": "3.9.7"
  }
 },
 "nbformat": 4,
 "nbformat_minor": 5
}
