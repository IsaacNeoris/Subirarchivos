{
 "cells": [
  {
   "cell_type": "code",
   "execution_count": 8,
   "id": "0fcb4c24",
   "metadata": {},
   "outputs": [
    {
     "name": "stdout",
     "output_type": "stream",
     "text": [
      "5\n",
      "El animal es ['leon', 'perro', 'gato', 'tigre', 'toro', 'murcielago'], el tamaño de la palabra es 6\n",
      "1\n",
      "3\n",
      "5\n",
      "7\n",
      "9\n",
      "0\n",
      "1\n",
      "2\n",
      "3\n",
      "4\n",
      "5\n",
      "6\n",
      "7\n",
      "8\n",
      "9\n",
      "10\n",
      "A\n",
      "E\n",
      "I\n",
      "O\n",
      "4\n",
      "3\n",
      "1\n",
      "0\n",
      "\n",
      "k=  A  , v=  4\n",
      "\n",
      "k=  E  , v=  3\n",
      "\n",
      "k=  I  , v=  1\n",
      "\n",
      "k=  O  , v=  0\n",
      "0\n",
      "2\n",
      "4\n",
      "6\n",
      "8\n",
      "10\n",
      "2\n",
      "4\n",
      "5\n",
      "2\n",
      "4\n",
      "8\n",
      "4\n",
      "No se encontró el número 30\n"
     ]
    }
   ],
   "source": [
    "a=5\n",
    "if a==3:\n",
    "    a=a*3\n",
    "    print(a)\n",
    "elif a>10:\n",
    "    a%=2\n",
    "    print(a)\n",
    "elif a!=3:\n",
    "    print(a)\n",
    "else:\n",
    "    print(a)\n",
    "\n",
    "animal=[\"leon\",\"perro\",\"gato\",\"tigre\",\"toro\",\"murcielago\"]\n",
    "#print(animal)\n",
    "print('El animal es {0}, el tamaño de la palabra es {1}'.format(animal,len(animal)))\n",
    "nums=[1,3,5,7,9]\n",
    "for n in nums:\n",
    "    print(n)\n",
    "for i in range(11):\n",
    "    print(i)\n",
    "valores = {'A':4,'E':3,'I':1,'O':0}\n",
    "for k in valores:\n",
    "    print(k)\n",
    "for v in valores.values():\n",
    "    print(v)\n",
    "for k,v in valores.items():\n",
    "    print ('\\nk= ',k,' , v= ',v)\n",
    "for num in range(0,11,2):\n",
    "    print(num)\n",
    "collection=[2,4,5,7,8,9,3,4]\n",
    "for e in collection:\n",
    "    if e==7:\n",
    "        break\n",
    "    print(e)\n",
    "for e in collection:\n",
    "    if e% 2!=0:\n",
    "        continue\n",
    "    print(e)\n",
    "numeros = [1,2,4,3,5,8,6]\n",
    "for n in numeros:\n",
    "    if n==30:\n",
    "        break\n",
    "else:\n",
    "    print('No se encontró el número 30')"
   ]
  },
  {
   "cell_type": "code",
   "execution_count": 31,
   "id": "398c7112",
   "metadata": {},
   "outputs": [],
   "source": [
    "dictHub={'Mario':85,'Ilse':-7,'Isaac':-97}"
   ]
  },
  {
   "cell_type": "code",
   "execution_count": 32,
   "id": "8c2ea320",
   "metadata": {},
   "outputs": [
    {
     "data": {
      "text/plain": [
       "{'Mario': 85, 'Ilse': -7, 'Isaac': -97}"
      ]
     },
     "execution_count": 32,
     "metadata": {},
     "output_type": "execute_result"
    }
   ],
   "source": [
    "dictHub"
   ]
  },
  {
   "cell_type": "code",
   "execution_count": 33,
   "id": "a01de616",
   "metadata": {},
   "outputs": [
    {
     "name": "stdout",
     "output_type": "stream",
     "text": [
      "Mario eligió el número 85\n",
      "Ilse eligió el número -7\n",
      "Isaac eligió el número -97\n"
     ]
    }
   ],
   "source": [
    "for i,j in dictHub.items():\n",
    "    print('{0} eligió el número {1}'.format(i,j))"
   ]
  },
  {
   "cell_type": "code",
   "execution_count": 34,
   "id": "706a1c03",
   "metadata": {},
   "outputs": [
    {
     "name": "stdout",
     "output_type": "stream",
     "text": [
      "El valor máximo es  85\n"
     ]
    }
   ],
   "source": [
    "i=0\n",
    "j=0\n",
    "d=0\n",
    "for i,j in dictHub.items():\n",
    "    if j==d:\n",
    "        d=j\n",
    "    elif j<=d:\n",
    "        pass\n",
    "    elif j>=d:\n",
    "        d=j\n",
    "        \n",
    "print('El valor máximo es ',d)"
   ]
  },
  {
   "cell_type": "code",
   "execution_count": 35,
   "id": "d17465fb",
   "metadata": {},
   "outputs": [
    {
     "name": "stdout",
     "output_type": "stream",
     "text": [
      "El valor mínimo es  -97\n"
     ]
    }
   ],
   "source": [
    "i=0\n",
    "j=0\n",
    "d=0\n",
    "for i,j in dictHub.items():\n",
    "    if j==d:\n",
    "        d=j\n",
    "    elif j<=d:\n",
    "        d=j\n",
    "    elif j>=d:\n",
    "        pass\n",
    "        \n",
    "print('El valor mínimo es ',d)"
   ]
  },
  {
   "cell_type": "code",
   "execution_count": 15,
   "id": "eba237de",
   "metadata": {},
   "outputs": [],
   "source": [
    "valores=dictHub.values()"
   ]
  },
  {
   "cell_type": "code",
   "execution_count": 16,
   "id": "c70bddeb",
   "metadata": {},
   "outputs": [],
   "source": [
    "valores_l=list(valores)"
   ]
  },
  {
   "cell_type": "code",
   "execution_count": 17,
   "id": "b790cadd",
   "metadata": {},
   "outputs": [],
   "source": [
    "minimo=min(valores_l)"
   ]
  },
  {
   "cell_type": "code",
   "execution_count": 18,
   "id": "0ffc055d",
   "metadata": {},
   "outputs": [],
   "source": [
    "maximo=max(valores_l)"
   ]
  },
  {
   "cell_type": "code",
   "execution_count": 19,
   "id": "115140a1",
   "metadata": {},
   "outputs": [
    {
     "name": "stdout",
     "output_type": "stream",
     "text": [
      "El valor mínimo es -7 \n",
      "El valor mínimo es 85\n"
     ]
    }
   ],
   "source": [
    "print('El valor mínimo es {0} \\nEl valor mínimo es {1}'.format(minimo,maximo))"
   ]
  },
  {
   "cell_type": "code",
   "execution_count": 23,
   "id": "83b55457",
   "metadata": {},
   "outputs": [
    {
     "name": "stdout",
     "output_type": "stream",
     "text": [
      "Escriba un número positivo: -1\n",
      "Ups, ese número no es positivo, intente de nuevo\n",
      "Escriba un número positivo: -2\n",
      "Ups, ese número no es positivo, intente de nuevo\n",
      "Escriba un número positivo: -3\n",
      "Ups, ese número no es positivo, intente de nuevo\n",
      "Escriba un número positivo: -4\n",
      "Ups, ese número no es positivo, intente de nuevo\n",
      "Escriba un número positivo: -5\n",
      "Ups, ese número no es positivo, intente de nuevo\n",
      "Escriba un número positivo: -6\n",
      "Ups, ese número no es positivo, intente de nuevo\n",
      "Escriba un número positivo: 6\n",
      "Número correcto, grácias!\n"
     ]
    }
   ],
   "source": [
    "numero=int(input('Escriba un número positivo: '))\n",
    "while numero<0:\n",
    "        print('Ups, ese número no es positivo, intente de nuevo')\n",
    "        numero=int(input('Escriba un número positivo: '))\n",
    "print('Número correcto, grácias!')"
   ]
  },
  {
   "cell_type": "code",
   "execution_count": 3,
   "id": "916c77a3",
   "metadata": {},
   "outputs": [
    {
     "name": "stdout",
     "output_type": "stream",
     "text": [
      "Monto de venta: $10\n",
      "Monto de venta: $20\n",
      "Monto de venta: $30\n",
      "Monto de venta: $-1\n",
      "Monto no válido porque es negativo, ingrese otro número\n",
      "Monto de venta: $-1\n",
      "Monto no válido porque es negativo, ingrese otro número\n",
      "Monto de venta: $0\n",
      "Monto total con descuento de 10%: $ 60.0\n"
     ]
    }
   ],
   "source": [
    "cantidad=0\n",
    "monto=float(input('Monto de venta: $'))\n",
    "while monto !=0:\n",
    "    if monto<0:\n",
    "        print('Monto no válido porque es negativo, ingrese otro número')\n",
    "    else:\n",
    "        cantidad+=monto\n",
    "    monto=float(input('Monto de venta: $'))\n",
    "if cantidad>1000:\n",
    "    cantidad -= cantidad*0.1\n",
    "print('Monto total con descuento de 10%: $',cantidad)"
   ]
  },
  {
   "cell_type": "code",
   "execution_count": 5,
   "id": "a871d9df",
   "metadata": {},
   "outputs": [],
   "source": [
    "def resta(a,b):\n",
    "    return a-b"
   ]
  },
  {
   "cell_type": "code",
   "execution_count": 6,
   "id": "7cd85283",
   "metadata": {},
   "outputs": [
    {
     "data": {
      "text/plain": [
       "-10"
      ]
     },
     "execution_count": 6,
     "metadata": {},
     "output_type": "execute_result"
    }
   ],
   "source": [
    "resta(10,20)"
   ]
  },
  {
   "cell_type": "code",
   "execution_count": 7,
   "id": "8ff76308",
   "metadata": {},
   "outputs": [
    {
     "data": {
      "text/plain": [
       "-40"
      ]
     },
     "execution_count": 7,
     "metadata": {},
     "output_type": "execute_result"
    }
   ],
   "source": [
    "resta(b=50,a=10)"
   ]
  },
  {
   "cell_type": "code",
   "execution_count": 11,
   "id": "4cd3efa1",
   "metadata": {},
   "outputs": [],
   "source": [
    "def resta1 (a=None,b=None):\n",
    "    if a == None or b == None:\n",
    "        print('Se requieren dos valores para efectuar la función')\n",
    "        return\n",
    "    return a-b"
   ]
  },
  {
   "cell_type": "code",
   "execution_count": 12,
   "id": "d4b812e0",
   "metadata": {},
   "outputs": [
    {
     "name": "stdout",
     "output_type": "stream",
     "text": [
      "Se requieren dos valores para efectuar la función\n"
     ]
    }
   ],
   "source": [
    "resta1(6)"
   ]
  },
  {
   "cell_type": "code",
   "execution_count": 13,
   "id": "d5019e7c",
   "metadata": {},
   "outputs": [
    {
     "name": "stdout",
     "output_type": "stream",
     "text": [
      "Se requieren dos valores para efectuar la función\n"
     ]
    }
   ],
   "source": [
    "resta1(50,)"
   ]
  },
  {
   "cell_type": "code",
   "execution_count": 14,
   "id": "dc6cb83c",
   "metadata": {},
   "outputs": [
    {
     "data": {
      "text/plain": [
       "75"
      ]
     },
     "execution_count": 14,
     "metadata": {},
     "output_type": "execute_result"
    }
   ],
   "source": [
    "resta1(78,3)"
   ]
  },
  {
   "cell_type": "code",
   "execution_count": 4,
   "id": "ade158a0",
   "metadata": {},
   "outputs": [],
   "source": [
    "from math import sqrt\n",
    "def Fgeneral(a,b,c):\n",
    "    if((b**2)-4*a*c) < 0:\n",
    "        print('La solución es compleja')\n",
    "    else:\n",
    "        x1=(-b+sqrt(b**2-(4*a*c)))/(2*a)\n",
    "        x2=(-b-sqrt(b**2-(4*a*c)))/(2*a)\n",
    "        print('El valor de x1 es: {0} \\nEl valor de x2 es: {1}'.format(x1,x2))"
   ]
  },
  {
   "cell_type": "code",
   "execution_count": 5,
   "id": "066a7b35",
   "metadata": {},
   "outputs": [
    {
     "name": "stdout",
     "output_type": "stream",
     "text": [
      "La solución es compleja\n"
     ]
    }
   ],
   "source": [
    "Fgeneral(3,5,7)"
   ]
  },
  {
   "cell_type": "code",
   "execution_count": 9,
   "id": "413b61a1",
   "metadata": {},
   "outputs": [
    {
     "name": "stdout",
     "output_type": "stream",
     "text": [
      "El valor de x1 es: 2.189254787610007 \n",
      "El valor de x2 es: -1.5225881209433405\n"
     ]
    }
   ],
   "source": [
    "Fgeneral(12,-8,-40)"
   ]
  },
  {
   "cell_type": "code",
   "execution_count": 18,
   "id": "109862ab",
   "metadata": {},
   "outputs": [],
   "source": [
    "a=25"
   ]
  },
  {
   "cell_type": "code",
   "execution_count": 19,
   "id": "4f2c5122",
   "metadata": {},
   "outputs": [
    {
     "name": "stdout",
     "output_type": "stream",
     "text": [
      "El valor de a no es igual a 3, es igual a: 25\n"
     ]
    }
   ],
   "source": [
    "if a == 3:\n",
    "    a=a*3\n",
    "    print(a)\n",
    "else:\n",
    "    if a>10:\n",
    "        print('El valor de a no es igual a 3, es igual a:', a)"
   ]
  },
  {
   "cell_type": "code",
   "execution_count": 21,
   "id": "9e982020",
   "metadata": {},
   "outputs": [],
   "source": [
    "edad=18"
   ]
  },
  {
   "cell_type": "code",
   "execution_count": 24,
   "id": "03700937",
   "metadata": {},
   "outputs": [
    {
     "name": "stdout",
     "output_type": "stream",
     "text": [
      "Usted es mayor de edad\n"
     ]
    }
   ],
   "source": [
    "if edad >=18:\n",
    "    print('Usted es mayor de edad')\n",
    "elif edad <18:\n",
    "    print('Usted es menor de edad')"
   ]
  },
  {
   "cell_type": "code",
   "execution_count": 26,
   "id": "4bd19366",
   "metadata": {},
   "outputs": [
    {
     "name": "stdout",
     "output_type": "stream",
     "text": [
      "Por favor, escriba su edad con números enteros:30\n",
      "Usted es mayor de edad\n"
     ]
    }
   ],
   "source": [
    "edad= int(input('Por favor, escriba su edad con números enteros:'))\n",
    "if edad >=18:\n",
    "    print('Usted es mayor de edad')\n",
    "elif edad <18:\n",
    "    print('Usted es menor de edad')"
   ]
  },
  {
   "cell_type": "code",
   "execution_count": 11,
   "id": "afc23d11",
   "metadata": {
    "scrolled": true
   },
   "outputs": [
    {
     "name": "stdout",
     "output_type": "stream",
     "text": [
      "Por favor, ingrese el primer número a comparar: 50\n",
      "Por favor, ingrese el segundo número a comparar: 70\n",
      "El segundo número es mayor 70.0\n"
     ]
    }
   ],
   "source": [
    "a=float(input('Por favor, ingrese el primer número a comparar: '))\n",
    "b=float(input('Por favor, ingrese el segundo número a comparar: '))\n",
    "if a==b:\n",
    "    print('Ambos números son iguales')\n",
    "elif a>b:\n",
    "    print('El primer número que es igual a {0} es mayor al segundo que es igual a {1}'.format(a,b))\n",
    "elif a<b:\n",
    "    print('El segundo número es mayor', b)"
   ]
  },
  {
   "cell_type": "code",
   "execution_count": 12,
   "id": "a15ae803",
   "metadata": {},
   "outputs": [],
   "source": [
    "nums=[1,3,5,7,9]"
   ]
  },
  {
   "cell_type": "code",
   "execution_count": 13,
   "id": "6641ee01",
   "metadata": {},
   "outputs": [
    {
     "name": "stdout",
     "output_type": "stream",
     "text": [
      "1\n",
      "3\n",
      "5\n",
      "7\n",
      "9\n"
     ]
    }
   ],
   "source": [
    "for n in nums:\n",
    "    print(n) #print(1), enter print(3)...."
   ]
  },
  {
   "cell_type": "code",
   "execution_count": 20,
   "id": "f730b8fa",
   "metadata": {},
   "outputs": [
    {
     "name": "stdout",
     "output_type": "stream",
     "text": [
      "El animal es leon, \n",
      "el tamaño de la palabra es 6\n"
     ]
    }
   ],
   "source": [
    "animal=[\"leon\",\"perro\",\"gato\",\"tigre\",\"toro\",\"murcielago\"]\n",
    "#print(animal)\n",
    "print('El animal es {0}, \\nel tamaño de la palabra es {1}'.format(animal[0],len(animal)))"
   ]
  },
  {
   "cell_type": "code",
   "execution_count": 16,
   "id": "c8ca0430",
   "metadata": {},
   "outputs": [
    {
     "name": "stdout",
     "output_type": "stream",
     "text": [
      "A\n",
      "E\n",
      "I\n",
      "O\n"
     ]
    }
   ],
   "source": [
    "valores = {'A':4,'E':3,'I':1,'O':0}\n",
    "for k in valores: #k de keys\n",
    "    print(k)"
   ]
  },
  {
   "cell_type": "code",
   "execution_count": 17,
   "id": "a595ae0f",
   "metadata": {},
   "outputs": [
    {
     "name": "stdout",
     "output_type": "stream",
     "text": [
      "4\n",
      "3\n",
      "1\n",
      "0\n"
     ]
    }
   ],
   "source": [
    "for v in valores.values():\n",
    "    print(v)"
   ]
  },
  {
   "cell_type": "code",
   "execution_count": 19,
   "id": "dd4a9651",
   "metadata": {},
   "outputs": [
    {
     "name": "stdout",
     "output_type": "stream",
     "text": [
      "\n",
      "k=  A  , \n",
      "v=  4\n",
      "\n",
      "k=  E  , \n",
      "v=  3\n",
      "\n",
      "k=  I  , \n",
      "v=  1\n",
      "\n",
      "k=  O  , \n",
      "v=  0\n"
     ]
    }
   ],
   "source": [
    "for k,v in valores.items():\n",
    "    print ('\\nk= ',k,' , \\nv= ',v)"
   ]
  },
  {
   "cell_type": "code",
   "execution_count": 22,
   "id": "5632b0a2",
   "metadata": {},
   "outputs": [
    {
     "name": "stdout",
     "output_type": "stream",
     "text": [
      "0\n",
      "2\n",
      "4\n",
      "6\n",
      "8\n",
      "10\n"
     ]
    }
   ],
   "source": [
    "for i in range (0,11,2):\n",
    "    print(i)"
   ]
  },
  {
   "cell_type": "code",
   "execution_count": 23,
   "id": "36b34f07",
   "metadata": {},
   "outputs": [
    {
     "name": "stdout",
     "output_type": "stream",
     "text": [
      "2\n",
      "4\n",
      "5\n"
     ]
    }
   ],
   "source": [
    "lista1=[2,4,5,7,8,9,3,4]\n",
    "for e in lista1:\n",
    "    if e == 7:\n",
    "        break\n",
    "    print(e)"
   ]
  },
  {
   "cell_type": "code",
   "execution_count": 24,
   "id": "c0a70a59",
   "metadata": {},
   "outputs": [
    {
     "name": "stdout",
     "output_type": "stream",
     "text": [
      "2\n",
      "4\n",
      "5\n",
      "8\n",
      "9\n",
      "3\n",
      "4\n"
     ]
    }
   ],
   "source": [
    "lista1=[2,4,5,7,8,9,3,4]\n",
    "for e in lista1:\n",
    "    if e == 7:\n",
    "        continue\n",
    "    print(e)"
   ]
  },
  {
   "cell_type": "code",
   "execution_count": 32,
   "id": "51788cda",
   "metadata": {},
   "outputs": [
    {
     "name": "stdout",
     "output_type": "stream",
     "text": [
      "El número no existe en la lista\n",
      "El número no existe en la lista\n",
      "El número no existe en la lista\n",
      "El número no existe en la lista\n",
      "El número no existe en la lista\n",
      "El número no existe en la lista\n",
      "El número no existe en la lista\n",
      "El número no existe en la lista\n"
     ]
    }
   ],
   "source": [
    "lista1=[2,4,5,7,8,9,3,4]\n",
    "for n in lista1:\n",
    "    if n == 10:\n",
    "        break\n",
    "    else:  #Else dentro de if imprime en cada ciclo \n",
    "        print('El número no existe en la lista')"
   ]
  },
  {
   "cell_type": "code",
   "execution_count": 39,
   "id": "3f81bfaf",
   "metadata": {},
   "outputs": [
    {
     "name": "stdout",
     "output_type": "stream",
     "text": [
      "El número no existe en la lista\n"
     ]
    }
   ],
   "source": [
    "lista1=[2,4,5,7,8,9,3,4]\n",
    "for n in lista1:\n",
    "    if n == 1:\n",
    "        break\n",
    "else:  #else a nivel for o fuera de if imprime al final\n",
    "        print('El número no existe en la lista')"
   ]
  },
  {
   "cell_type": "code",
   "execution_count": 41,
   "id": "9889e666",
   "metadata": {},
   "outputs": [
    {
     "name": "stdout",
     "output_type": "stream",
     "text": [
      "El numero EXISTE en la lista\n"
     ]
    }
   ],
   "source": [
    "lista=[2,4,5,7,8,9,3,4]\n",
    "for n in lista:\n",
    "    if n == 4:\n",
    "        break\n",
    "    else:\n",
    "        print('El numero EXISTE en la lista')\n",
    "else:\n",
    "        print('El numero no existe en la lista')"
   ]
  },
  {
   "cell_type": "code",
   "execution_count": 15,
   "id": "b506a237",
   "metadata": {},
   "outputs": [
    {
     "name": "stdout",
     "output_type": "stream",
     "text": [
      "Mi edad es 12.0\n"
     ]
    }
   ],
   "source": [
    "edad=24/2\n",
    "print('Mi edad es', edad)"
   ]
  },
  {
   "cell_type": "code",
   "execution_count": 16,
   "id": "78479ab6",
   "metadata": {},
   "outputs": [
    {
     "name": "stdout",
     "output_type": "stream",
     "text": [
      "La edad de mi herman es 63.0\n"
     ]
    }
   ],
   "source": [
    "#1/3(x)-15=6\n",
    "#1/3(x)=6+15\n",
    "#x=21/(1/3) --> (21/1)/(1/3)\n",
    "#x=63\n",
    "\n",
    "x=(21)/(1/3)\n",
    "print('La edad de mi herman es',x)"
   ]
  },
  {
   "cell_type": "code",
   "execution_count": null,
   "id": "0ef4d0c2",
   "metadata": {},
   "outputs": [],
   "source": []
  }
 ],
 "metadata": {
  "kernelspec": {
   "display_name": "Python 3 (ipykernel)",
   "language": "python",
   "name": "python3"
  },
  "language_info": {
   "codemirror_mode": {
    "name": "ipython",
    "version": 3
   },
   "file_extension": ".py",
   "mimetype": "text/x-python",
   "name": "python",
   "nbconvert_exporter": "python",
   "pygments_lexer": "ipython3",
   "version": "3.9.7"
  }
 },
 "nbformat": 4,
 "nbformat_minor": 5
}
