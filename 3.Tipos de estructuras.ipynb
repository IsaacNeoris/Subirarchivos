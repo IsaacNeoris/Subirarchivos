{
 "cells": [
  {
   "cell_type": "code",
   "execution_count": null,
   "id": "2d1ff8fb",
   "metadata": {},
   "outputs": [],
   "source": [
    "i=2"
   ]
  },
  {
   "cell_type": "code",
   "execution_count": null,
   "id": "1db5dcdf",
   "metadata": {},
   "outputs": [],
   "source": [
    "type(i)"
   ]
  },
  {
   "cell_type": "code",
   "execution_count": null,
   "id": "382fbc94",
   "metadata": {},
   "outputs": [],
   "source": [
    "i=[2,3,4,5,6]"
   ]
  },
  {
   "cell_type": "code",
   "execution_count": null,
   "id": "44d73496",
   "metadata": {
    "scrolled": true
   },
   "outputs": [],
   "source": [
    "type(i)"
   ]
  },
  {
   "cell_type": "code",
   "execution_count": null,
   "id": "bb01de64",
   "metadata": {},
   "outputs": [],
   "source": [
    "cadena,numero,lista = \"Hola\", 123456, [7,8,9,0]\n",
    "tupla=(11,\"Adios\",True,None) #Inmutable\n",
    "diccionario={\"nombre\":\"Isaac\",\"color\":\"amarillo\"}"
   ]
  },
  {
   "cell_type": "raw",
   "id": "6e3dc85d",
   "metadata": {},
   "source": []
  },
  {
   "cell_type": "code",
   "execution_count": null,
   "id": "b61625fc",
   "metadata": {},
   "outputs": [],
   "source": [
    "vars()"
   ]
  },
  {
   "cell_type": "code",
   "execution_count": null,
   "id": "a3471b36",
   "metadata": {},
   "outputs": [],
   "source": [
    "del cadena"
   ]
  },
  {
   "cell_type": "code",
   "execution_count": null,
   "id": "2d17d01c",
   "metadata": {},
   "outputs": [],
   "source": [
    "variable1=\"variable original\"\n",
    "def variable_global():\n",
    "    global variable1\n",
    "    variable1= \"variable global modificada\""
   ]
  },
  {
   "cell_type": "code",
   "execution_count": null,
   "id": "48c031c1",
   "metadata": {},
   "outputs": [],
   "source": [
    "print(variable1)"
   ]
  },
  {
   "cell_type": "code",
   "execution_count": null,
   "id": "6882071f",
   "metadata": {},
   "outputs": [],
   "source": [
    "variable_global()"
   ]
  },
  {
   "cell_type": "code",
   "execution_count": null,
   "id": "90e5b837",
   "metadata": {},
   "outputs": [],
   "source": [
    "print(variable1)"
   ]
  },
  {
   "cell_type": "code",
   "execution_count": null,
   "id": "ab9a1fb4",
   "metadata": {},
   "outputs": [],
   "source": [
    "False"
   ]
  },
  {
   "cell_type": "code",
   "execution_count": null,
   "id": "c6c3b756",
   "metadata": {},
   "outputs": [],
   "source": [
    "True"
   ]
  },
  {
   "cell_type": "code",
   "execution_count": null,
   "id": "fc291bd6",
   "metadata": {},
   "outputs": [],
   "source": [
    "False==False"
   ]
  },
  {
   "cell_type": "code",
   "execution_count": null,
   "id": "a2f387c4",
   "metadata": {},
   "outputs": [],
   "source": [
    "False==True"
   ]
  },
  {
   "cell_type": "code",
   "execution_count": null,
   "id": "62f2c56f",
   "metadata": {},
   "outputs": [],
   "source": [
    "int(False)"
   ]
  },
  {
   "cell_type": "code",
   "execution_count": null,
   "id": "a056c85f",
   "metadata": {},
   "outputs": [],
   "source": [
    "int(True)"
   ]
  },
  {
   "cell_type": "code",
   "execution_count": null,
   "id": "d1746f27",
   "metadata": {},
   "outputs": [],
   "source": [
    "factura=[\"pan\",\"leche\",12,50.25] #Lista puede contener diferentes tipos de datos"
   ]
  },
  {
   "cell_type": "code",
   "execution_count": null,
   "id": "f8906c01",
   "metadata": {},
   "outputs": [],
   "source": [
    "factura"
   ]
  },
  {
   "cell_type": "code",
   "execution_count": null,
   "id": "d1eb5927",
   "metadata": {},
   "outputs": [],
   "source": [
    "type(factura)"
   ]
  },
  {
   "cell_type": "code",
   "execution_count": null,
   "id": "793ec9d6",
   "metadata": {},
   "outputs": [],
   "source": [
    "len(factura)"
   ]
  },
  {
   "cell_type": "code",
   "execution_count": null,
   "id": "f44dace2",
   "metadata": {},
   "outputs": [],
   "source": [
    "len(variable1)"
   ]
  },
  {
   "cell_type": "code",
   "execution_count": null,
   "id": "62dcdbc6",
   "metadata": {},
   "outputs": [],
   "source": [
    "factura[0]"
   ]
  },
  {
   "cell_type": "code",
   "execution_count": null,
   "id": "b467d8e9",
   "metadata": {},
   "outputs": [],
   "source": [
    "variable1[2]"
   ]
  },
  {
   "cell_type": "code",
   "execution_count": null,
   "id": "048b3f02",
   "metadata": {},
   "outputs": [],
   "source": [
    "factura[3]"
   ]
  },
  {
   "cell_type": "code",
   "execution_count": null,
   "id": "f8984729",
   "metadata": {},
   "outputs": [],
   "source": [
    "factura[3]=\"soya\" #Modifica elemento existente en lista"
   ]
  },
  {
   "cell_type": "code",
   "execution_count": null,
   "id": "773c626f",
   "metadata": {},
   "outputs": [],
   "source": [
    "factura"
   ]
  },
  {
   "cell_type": "code",
   "execution_count": null,
   "id": "ec888f3e",
   "metadata": {},
   "outputs": [],
   "source": [
    "factura.append(\"hamburguesa\") #Agrega nuevo elemento a lista"
   ]
  },
  {
   "cell_type": "code",
   "execution_count": null,
   "id": "44c65d55",
   "metadata": {},
   "outputs": [],
   "source": [
    "factura"
   ]
  },
  {
   "cell_type": "code",
   "execution_count": null,
   "id": "79d7291d",
   "metadata": {},
   "outputs": [],
   "source": [
    "factura.count(12)"
   ]
  },
  {
   "cell_type": "code",
   "execution_count": null,
   "id": "2af6c96d",
   "metadata": {},
   "outputs": [],
   "source": [
    "factura.extend([4])"
   ]
  },
  {
   "cell_type": "code",
   "execution_count": null,
   "id": "dedb0caa",
   "metadata": {},
   "outputs": [],
   "source": [
    "factura"
   ]
  },
  {
   "cell_type": "code",
   "execution_count": null,
   "id": "ab2e1a59",
   "metadata": {},
   "outputs": [],
   "source": [
    "factura.extend([5,10])"
   ]
  },
  {
   "cell_type": "code",
   "execution_count": null,
   "id": "dd564294",
   "metadata": {},
   "outputs": [],
   "source": [
    "factura"
   ]
  },
  {
   "cell_type": "code",
   "execution_count": null,
   "id": "fbbdbfef",
   "metadata": {},
   "outputs": [],
   "source": [
    "factura.extend(range(3,7))"
   ]
  },
  {
   "cell_type": "code",
   "execution_count": null,
   "id": "eb6033d4",
   "metadata": {},
   "outputs": [],
   "source": [
    "factura"
   ]
  },
  {
   "cell_type": "code",
   "execution_count": null,
   "id": "f5ba3cb2",
   "metadata": {},
   "outputs": [],
   "source": [
    "factura.index(5) #Primera ubicación de elemento"
   ]
  },
  {
   "cell_type": "code",
   "execution_count": null,
   "id": "8cb1364e",
   "metadata": {},
   "outputs": [],
   "source": [
    "factura.pop() #Devuelve y elimina último elemento"
   ]
  },
  {
   "cell_type": "code",
   "execution_count": null,
   "id": "6e5d4ed7",
   "metadata": {},
   "outputs": [],
   "source": [
    "factura.pop(2) #Devuelve y elimina el elemento"
   ]
  },
  {
   "cell_type": "code",
   "execution_count": null,
   "id": "f1bcd231",
   "metadata": {},
   "outputs": [],
   "source": [
    "factura"
   ]
  },
  {
   "cell_type": "code",
   "execution_count": null,
   "id": "a7144546",
   "metadata": {},
   "outputs": [],
   "source": [
    "factura.remove(4) #Elimina el valor en su primera aparición"
   ]
  },
  {
   "cell_type": "code",
   "execution_count": null,
   "id": "b8150911",
   "metadata": {},
   "outputs": [],
   "source": [
    "factura"
   ]
  },
  {
   "cell_type": "code",
   "execution_count": null,
   "id": "af4af673",
   "metadata": {},
   "outputs": [],
   "source": [
    "factura.reverse()"
   ]
  },
  {
   "cell_type": "code",
   "execution_count": null,
   "id": "e7f97c58",
   "metadata": {},
   "outputs": [],
   "source": [
    "factura"
   ]
  },
  {
   "cell_type": "code",
   "execution_count": null,
   "id": "d8d3e5b3",
   "metadata": {},
   "outputs": [],
   "source": [
    "type(factura)"
   ]
  },
  {
   "cell_type": "code",
   "execution_count": null,
   "id": "4daa2cc6",
   "metadata": {},
   "outputs": [],
   "source": [
    "valores=('python',True,'Digital hub',3)"
   ]
  },
  {
   "cell_type": "code",
   "execution_count": null,
   "id": "2188e757",
   "metadata": {},
   "outputs": [],
   "source": [
    "type(valores)"
   ]
  },
  {
   "cell_type": "code",
   "execution_count": null,
   "id": "15963a9d",
   "metadata": {},
   "outputs": [],
   "source": [
    "lista=list((1,2,3,4))"
   ]
  },
  {
   "cell_type": "code",
   "execution_count": null,
   "id": "0ae8313c",
   "metadata": {},
   "outputs": [],
   "source": [
    "type(lista)"
   ]
  },
  {
   "cell_type": "code",
   "execution_count": null,
   "id": "a00ad238",
   "metadata": {},
   "outputs": [],
   "source": [
    "tupla=tuple(lista)"
   ]
  },
  {
   "cell_type": "code",
   "execution_count": null,
   "id": "744337d2",
   "metadata": {},
   "outputs": [],
   "source": [
    "type(tupla)"
   ]
  },
  {
   "cell_type": "code",
   "execution_count": null,
   "id": "2251d932",
   "metadata": {},
   "outputs": [],
   "source": [
    "diccionario={'Nombre':'Isaac','Apellido P':'Hernández','Apellido M':False}"
   ]
  },
  {
   "cell_type": "code",
   "execution_count": null,
   "id": "f6d67a8c",
   "metadata": {},
   "outputs": [],
   "source": [
    "diccionario"
   ]
  },
  {
   "cell_type": "code",
   "execution_count": null,
   "id": "4c943e75",
   "metadata": {},
   "outputs": [],
   "source": [
    "diccionario['Apellido M']"
   ]
  },
  {
   "cell_type": "code",
   "execution_count": null,
   "id": "c78fa96f",
   "metadata": {},
   "outputs": [],
   "source": [
    "diccionario['Apellido M'] = 10 #Cambiar un valor"
   ]
  },
  {
   "cell_type": "code",
   "execution_count": null,
   "id": "0f0b223d",
   "metadata": {},
   "outputs": [],
   "source": [
    "diccionario"
   ]
  },
  {
   "cell_type": "code",
   "execution_count": null,
   "id": "5c1cec50",
   "metadata": {},
   "outputs": [],
   "source": [
    "hoy=dict(python=3.6,windows=10,Core='i7')"
   ]
  },
  {
   "cell_type": "code",
   "execution_count": null,
   "id": "85447b8e",
   "metadata": {},
   "outputs": [],
   "source": [
    "hoy"
   ]
  },
  {
   "cell_type": "code",
   "execution_count": null,
   "id": "c05baf77",
   "metadata": {},
   "outputs": [],
   "source": [
    "type(hoy)"
   ]
  },
  {
   "cell_type": "code",
   "execution_count": null,
   "id": "9258b718",
   "metadata": {},
   "outputs": [],
   "source": [
    "hoy.clear() #Eliminar valores del diccionario"
   ]
  },
  {
   "cell_type": "code",
   "execution_count": null,
   "id": "c8a8e4e2",
   "metadata": {},
   "outputs": [],
   "source": [
    "caracteristicas=('edad','n_estudios','CP')"
   ]
  },
  {
   "cell_type": "code",
   "execution_count": null,
   "id": "1c5cbad7",
   "metadata": {},
   "outputs": [],
   "source": [
    "info=dict.fromkeys(caracteristicas) #Crea diccionario con lista como keys"
   ]
  },
  {
   "cell_type": "code",
   "execution_count": null,
   "id": "1857fb08",
   "metadata": {},
   "outputs": [],
   "source": [
    "info #Valor por default es 'None'"
   ]
  },
  {
   "cell_type": "code",
   "execution_count": null,
   "id": "9799f74c",
   "metadata": {},
   "outputs": [],
   "source": [
    "car=info.copy() #Copia superficial del diccionario"
   ]
  },
  {
   "cell_type": "raw",
   "id": "5bf1bdee",
   "metadata": {},
   "source": []
  },
  {
   "cell_type": "code",
   "execution_count": null,
   "id": "0fd26b81",
   "metadata": {},
   "outputs": [],
   "source": [
    "car"
   ]
  },
  {
   "cell_type": "code",
   "execution_count": null,
   "id": "6e7bb8fc",
   "metadata": {},
   "outputs": [],
   "source": [
    "hoy=dict(python=3.6,windows=10,Core='i7')"
   ]
  },
  {
   "cell_type": "code",
   "execution_count": null,
   "id": "cd41fbe9",
   "metadata": {},
   "outputs": [],
   "source": [
    "hoy"
   ]
  },
  {
   "cell_type": "code",
   "execution_count": null,
   "id": "3b355cc9",
   "metadata": {},
   "outputs": [],
   "source": [
    "hoy.get('python')"
   ]
  },
  {
   "cell_type": "code",
   "execution_count": null,
   "id": "304b1de0",
   "metadata": {},
   "outputs": [],
   "source": [
    "hoy.items() #Diccionario como lista de pares"
   ]
  },
  {
   "cell_type": "code",
   "execution_count": null,
   "id": "e3a13393",
   "metadata": {},
   "outputs": [],
   "source": [
    "hoy.keys() #Lista con keys"
   ]
  },
  {
   "cell_type": "code",
   "execution_count": null,
   "id": "ab29ed45",
   "metadata": {},
   "outputs": [],
   "source": [
    "hoy.pop('Core') #Elimina key y devuelve su valor"
   ]
  },
  {
   "cell_type": "code",
   "execution_count": null,
   "id": "7acb207c",
   "metadata": {},
   "outputs": [],
   "source": [
    "hoy"
   ]
  },
  {
   "cell_type": "code",
   "execution_count": null,
   "id": "efb27022",
   "metadata": {},
   "outputs": [],
   "source": [
    "hoy_2=dict(Office=365)"
   ]
  },
  {
   "cell_type": "code",
   "execution_count": null,
   "id": "5b9aadec",
   "metadata": {},
   "outputs": [],
   "source": [
    "hoy.update(hoy_2) #Agrega un diccionario a otro"
   ]
  },
  {
   "cell_type": "code",
   "execution_count": null,
   "id": "d9f1cc09",
   "metadata": {},
   "outputs": [],
   "source": [
    "hoy"
   ]
  },
  {
   "cell_type": "code",
   "execution_count": null,
   "id": "522d3330",
   "metadata": {},
   "outputs": [],
   "source": [
    "hoy.popitem() #Elimina último key + valor"
   ]
  },
  {
   "cell_type": "code",
   "execution_count": null,
   "id": "22b10032",
   "metadata": {},
   "outputs": [],
   "source": [
    "hoy"
   ]
  },
  {
   "cell_type": "code",
   "execution_count": null,
   "id": "385abe26",
   "metadata": {},
   "outputs": [],
   "source": [
    "list1 = [\"M\", \"nom\", \"e\", \"Is\"]\n",
    "list2 = [\"i\", \"bre\", \"s\", \"aac\"]"
   ]
  },
  {
   "cell_type": "code",
   "execution_count": null,
   "id": "70ce6573",
   "metadata": {},
   "outputs": [],
   "source": [
    "list3 = [i+j for i,j in zip(list1,list2)]"
   ]
  },
  {
   "cell_type": "code",
   "execution_count": null,
   "id": "51732aed",
   "metadata": {},
   "outputs": [],
   "source": [
    "print(list3)"
   ]
  },
  {
   "cell_type": "code",
   "execution_count": null,
   "id": "5addc582",
   "metadata": {},
   "outputs": [],
   "source": [
    "list3.reverse()\n",
    "print(list3)"
   ]
  },
  {
   "cell_type": "code",
   "execution_count": null,
   "id": "4ff146d3",
   "metadata": {},
   "outputs": [],
   "source": [
    "numeros = [1,2,3,4,5,6,7] #Ejercicio "
   ]
  },
  {
   "cell_type": "code",
   "execution_count": null,
   "id": "0a59c330",
   "metadata": {},
   "outputs": [],
   "source": [
    "ncuadrado = [x * x for x in numeros]\n",
    "print(ncuadrado)"
   ]
  },
  {
   "cell_type": "code",
   "execution_count": null,
   "id": "3cac8c8f",
   "metadata": {},
   "outputs": [],
   "source": [
    "list1 = [\"Mi \", \"\", \"nombre \", \"\", \"es\", \"Isaac\",\"\"]\n",
    "\n",
    "print(list1)"
   ]
  },
  {
   "cell_type": "code",
   "execution_count": null,
   "id": "dcb06fd3",
   "metadata": {},
   "outputs": [],
   "source": [
    "sin_espacios = list(filter(None,list1))\n",
    "print(sin_espacios)"
   ]
  },
  {
   "cell_type": "code",
   "execution_count": null,
   "id": "26ebc2fb",
   "metadata": {},
   "outputs": [],
   "source": [
    "list1 = [10, 20, [300, 400, [5000, 6000], 500], 30, 40]"
   ]
  },
  {
   "cell_type": "code",
   "execution_count": null,
   "id": "1a143fc6",
   "metadata": {},
   "outputs": [],
   "source": [
    "list1[2]"
   ]
  },
  {
   "cell_type": "code",
   "execution_count": null,
   "id": "fe9e3399",
   "metadata": {},
   "outputs": [],
   "source": [
    "list1[2][1]"
   ]
  },
  {
   "cell_type": "code",
   "execution_count": null,
   "id": "c81e8de1",
   "metadata": {},
   "outputs": [],
   "source": [
    "list1[2][2]"
   ]
  },
  {
   "cell_type": "code",
   "execution_count": null,
   "id": "bc2eb691",
   "metadata": {},
   "outputs": [],
   "source": [
    "list1[2][2][1]"
   ]
  },
  {
   "cell_type": "code",
   "execution_count": null,
   "id": "b05d7142",
   "metadata": {},
   "outputs": [],
   "source": [
    "list2 = [7000,8000]"
   ]
  },
  {
   "cell_type": "code",
   "execution_count": null,
   "id": "7cfe2730",
   "metadata": {},
   "outputs": [],
   "source": [
    "list1.append(list2"
   ]
  },
  {
   "cell_type": "code",
   "execution_count": null,
   "id": "7731473d",
   "metadata": {},
   "outputs": [],
   "source": [
    "list1"
   ]
  },
  {
   "cell_type": "code",
   "execution_count": null,
   "id": "7a761555",
   "metadata": {},
   "outputs": [],
   "source": [
    "list1.pop()"
   ]
  },
  {
   "cell_type": "code",
   "execution_count": null,
   "id": "88fe521c",
   "metadata": {},
   "outputs": [],
   "source": [
    "list1.insert(2,500)"
   ]
  },
  {
   "cell_type": "code",
   "execution_count": null,
   "id": "bc8de63e",
   "metadata": {},
   "outputs": [],
   "source": [
    "print(list1)"
   ]
  },
  {
   "cell_type": "code",
   "execution_count": null,
   "id": "4ec43e75",
   "metadata": {
    "scrolled": true
   },
   "outputs": [],
   "source": [
    "list1.pop(2)"
   ]
  },
  {
   "cell_type": "code",
   "execution_count": null,
   "id": "54afdb7e",
   "metadata": {},
   "outputs": [],
   "source": [
    "list1.pop(2)"
   ]
  },
  {
   "cell_type": "code",
   "execution_count": null,
   "id": "3439f3e4",
   "metadata": {},
   "outputs": [],
   "source": [
    "print(list1)"
   ]
  },
  {
   "cell_type": "code",
   "execution_count": null,
   "id": "ddfb8ac1",
   "metadata": {},
   "outputs": [],
   "source": [
    "list1 = [10, 20, [300, 400, [5000, 6000], 500], 30, 40]"
   ]
  },
  {
   "cell_type": "code",
   "execution_count": null,
   "id": "47c92379",
   "metadata": {},
   "outputs": [],
   "source": [
    "list2 = [7000,8000]"
   ]
  },
  {
   "cell_type": "code",
   "execution_count": null,
   "id": "24fa2b9a",
   "metadata": {},
   "outputs": [],
   "source": [
    "list1[2][2].append(7000)"
   ]
  },
  {
   "cell_type": "code",
   "execution_count": null,
   "id": "3ccb8427",
   "metadata": {},
   "outputs": [],
   "source": [
    "print(list1)"
   ]
  },
  {
   "cell_type": "code",
   "execution_count": null,
   "id": "5107cbdc",
   "metadata": {},
   "outputs": [],
   "source": [
    "list1[2].append(600)"
   ]
  },
  {
   "cell_type": "code",
   "execution_count": null,
   "id": "508f4ecd",
   "metadata": {},
   "outputs": [],
   "source": [
    "print(list1)"
   ]
  },
  {
   "cell_type": "code",
   "execution_count": null,
   "id": "6405df4f",
   "metadata": {},
   "outputs": [],
   "source": [
    "list1[2][2].index(7000)"
   ]
  },
  {
   "cell_type": "code",
   "execution_count": null,
   "id": "4d3d2a31",
   "metadata": {},
   "outputs": [],
   "source": [
    "print(list1)"
   ]
  },
  {
   "cell_type": "code",
   "execution_count": null,
   "id": "19f30268",
   "metadata": {},
   "outputs": [],
   "source": [
    "list1[2].remove(600)"
   ]
  },
  {
   "cell_type": "code",
   "execution_count": null,
   "id": "9fd30c5a",
   "metadata": {},
   "outputs": [],
   "source": [
    "print(list1)"
   ]
  },
  {
   "cell_type": "code",
   "execution_count": null,
   "id": "cb945582",
   "metadata": {},
   "outputs": [],
   "source": [
    "list1[2][2].remove(5000)"
   ]
  },
  {
   "cell_type": "code",
   "execution_count": null,
   "id": "9c8004f4",
   "metadata": {},
   "outputs": [],
   "source": [
    "print(list1)"
   ]
  },
  {
   "cell_type": "code",
   "execution_count": null,
   "id": "a997d3b5",
   "metadata": {},
   "outputs": [],
   "source": [
    "list1[2][2].remove(7000)"
   ]
  },
  {
   "cell_type": "code",
   "execution_count": null,
   "id": "cf4bd116",
   "metadata": {},
   "outputs": [],
   "source": [
    "print(list1)"
   ]
  },
  {
   "cell_type": "code",
   "execution_count": null,
   "id": "e1b8ecde",
   "metadata": {},
   "outputs": [],
   "source": [
    "list1[2][2].append(7000)"
   ]
  },
  {
   "cell_type": "code",
   "execution_count": null,
   "id": "84ceb8ba",
   "metadata": {},
   "outputs": [],
   "source": [
    "print(list1)"
   ]
  },
  {
   "cell_type": "code",
   "execution_count": null,
   "id": "2c6e6667",
   "metadata": {},
   "outputs": [],
   "source": [
    "tupla=(1,2,3,4)"
   ]
  },
  {
   "cell_type": "code",
   "execution_count": null,
   "id": "a03433fd",
   "metadata": {},
   "outputs": [],
   "source": [
    "edad, a_osenempresa, sueldo, numfav = tupla"
   ]
  },
  {
   "cell_type": "code",
   "execution_count": null,
   "id": "1f51ca73",
   "metadata": {},
   "outputs": [],
   "source": [
    "print(edad)\n",
    "print(a_osenempresa)\n",
    "print(sueldo)\n",
    "print(numfav)"
   ]
  },
  {
   "cell_type": "code",
   "execution_count": null,
   "id": "4b6abed7",
   "metadata": {},
   "outputs": [],
   "source": [
    "t_ID_coord = (1246,7896)\n",
    "t_ID_super = (4982,3450)"
   ]
  },
  {
   "cell_type": "code",
   "execution_count": null,
   "id": "b50456e4",
   "metadata": {},
   "outputs": [],
   "source": [
    "t_ID_coord, t_ID_super = t_ID_super,t_ID_coord"
   ]
  },
  {
   "cell_type": "code",
   "execution_count": null,
   "id": "8eaec68e",
   "metadata": {},
   "outputs": [],
   "source": [
    "print('Las nuevas posiciones de coord son: ', t_ID_coord)\n",
    "print('Las nuevas posiciones de super son: ', t_ID_super)"
   ]
  },
  {
   "cell_type": "code",
   "execution_count": 1,
   "id": "2ddc4963",
   "metadata": {},
   "outputs": [],
   "source": [
    "edades = (('Mauricio',43,5),('Pepe',44,7),('Isaac',45,1),('Jesus',43,2),('Daniel',44,1),('Luis',45,5))"
   ]
  },
  {
   "cell_type": "code",
   "execution_count": 2,
   "id": "18de3073",
   "metadata": {},
   "outputs": [
    {
     "name": "stdout",
     "output_type": "stream",
     "text": [
      "(('Mauricio', 43, 5), ('Pepe', 44, 7), ('Isaac', 45, 1), ('Jesus', 43, 2), ('Daniel', 44, 1), ('Luis', 45, 5))\n"
     ]
    }
   ],
   "source": [
    "print(edades)"
   ]
  },
  {
   "cell_type": "code",
   "execution_count": 3,
   "id": "89e79004",
   "metadata": {},
   "outputs": [
    {
     "name": "stdout",
     "output_type": "stream",
     "text": [
      "(('Mauricio', 43, 5), ('Jesus', 43, 2), ('Pepe', 44, 7), ('Daniel', 44, 1), ('Isaac', 45, 1), ('Luis', 45, 5))\n"
     ]
    }
   ],
   "source": [
    "edades = tuple(sorted(list(edades), key=lambda x: x[1]))\n",
    "print(edades)"
   ]
  },
  {
   "cell_type": "code",
   "execution_count": 4,
   "id": "79a98dc0",
   "metadata": {},
   "outputs": [
    {
     "name": "stdout",
     "output_type": "stream",
     "text": [
      "(('Jesus', 43, 2), ('Mauricio', 43, 5), ('Daniel', 44, 1), ('Pepe', 44, 7), ('Isaac', 45, 1), ('Luis', 45, 5))\n"
     ]
    }
   ],
   "source": [
    "edades = tuple(sorted(list(edades), key=lambda x: (x[1],x[2])))\n",
    "print(edades)"
   ]
  },
  {
   "cell_type": "code",
   "execution_count": null,
   "id": "07d33faf",
   "metadata": {},
   "outputs": [],
   "source": [
    "sampleDict = {\n",
    "    \"class\": {\n",
    "        \"student\": {\n",
    "            \"name\": \"Mike\",\n",
    "            \"marks\": {\n",
    "                \"physics\": 70,\n",
    "                \"history\": 80\n",
    "            }\n",
    "        }\n",
    "    }\n",
    "}"
   ]
  },
  {
   "cell_type": "code",
   "execution_count": null,
   "id": "cfde91a0",
   "metadata": {},
   "outputs": [],
   "source": [
    "print(sampleDict['class']['student']['marks']['physics'])"
   ]
  },
  {
   "cell_type": "code",
   "execution_count": null,
   "id": "9d6d7fc6",
   "metadata": {},
   "outputs": [],
   "source": [
    "print(sampleDict['class']['student']['name'])"
   ]
  },
  {
   "cell_type": "code",
   "execution_count": null,
   "id": "820969b7",
   "metadata": {},
   "outputs": [],
   "source": [
    "personal={\n",
    "    'E1':{'name':'Isaac', 'salary':1000},\n",
    "    'E2':{'name':'Daniel', 'salary':1800},       \n",
    "}"
   ]
  },
  {
   "cell_type": "code",
   "execution_count": null,
   "id": "21149c7a",
   "metadata": {},
   "outputs": [],
   "source": [
    "personal['E2']['salary']=2500\n",
    "print(personal)"
   ]
  },
  {
   "cell_type": "code",
   "execution_count": null,
   "id": "55bfd9d4",
   "metadata": {},
   "outputs": [],
   "source": [
    "personal['E2']['name']= 'Alejandro'\n",
    "print(personal)"
   ]
  },
  {
   "cell_type": "code",
   "execution_count": null,
   "id": "e84eba26",
   "metadata": {},
   "outputs": [],
   "source": []
  }
 ],
 "metadata": {
  "kernelspec": {
   "display_name": "Python 3 (ipykernel)",
   "language": "python",
   "name": "python3"
  },
  "language_info": {
   "codemirror_mode": {
    "name": "ipython",
    "version": 3
   },
   "file_extension": ".py",
   "mimetype": "text/x-python",
   "name": "python",
   "nbconvert_exporter": "python",
   "pygments_lexer": "ipython3",
   "version": "3.9.12"
  }
 },
 "nbformat": 4,
 "nbformat_minor": 5
}
