{
 "cells": [
  {
   "cell_type": "markdown",
   "id": "4bd558fa",
   "metadata": {},
   "source": [
    "Documento 1"
   ]
  },
  {
   "cell_type": "code",
   "execution_count": 1,
   "id": "fc89833a",
   "metadata": {},
   "outputs": [],
   "source": [
    "a=1\n",
    "b=0"
   ]
  },
  {
   "cell_type": "code",
   "execution_count": 3,
   "id": "3a4ea0b6",
   "metadata": {},
   "outputs": [
    {
     "name": "stdout",
     "output_type": "stream",
     "text": [
      "La suma es 55\n"
     ]
    }
   ],
   "source": [
    "while a<=10:\n",
    "    b=a+b\n",
    "    a=a+1\n",
    "print('La suma es '+str(b))"
   ]
  },
  {
   "cell_type": "code",
   "execution_count": 9,
   "id": "15cf5423",
   "metadata": {},
   "outputs": [
    {
     "name": "stdout",
     "output_type": "stream",
     "text": [
      "Introduzca la nota del estudiante (ingrese -1 para salir)\n",
      "8.4\n",
      "Introduzca la nota del estudiante (ingrese -1 para salir)\n",
      "3.1\n",
      "Introduzca la nota del estudiante (ingrese -1 para salir)\n",
      "0.99\n",
      "El promedio de notas es de: 5.75\n"
     ]
    }
   ],
   "source": [
    "total=0\n",
    "contar=0\n",
    "print('Introduzca la nota del estudiante (ingrese -1 para salir)')\n",
    "grado=float(input())\n",
    "while grado != 0.99:\n",
    "    total=total+grado\n",
    "    contar=contar+1\n",
    "    print('Introduzca la nota del estudiante (ingrese -1 para salir)')\n",
    "    grado=float(input())\n",
    "promedio= total/contar\n",
    "print('El promedio de notas es de: '+str(promedio))"
   ]
  },
  {
   "cell_type": "code",
   "execution_count": null,
   "id": "d4541297",
   "metadata": {},
   "outputs": [],
   "source": [
    "numero=int(input('Escriba su edad: '))\n",
    "while numero<18:\n",
    "    print('Usted es menor de edad, intente nuevamente')\n",
    "    numero= int(input('Escriba su edad: '))\n",
    "print('Usted es mayor de edad')"
   ]
  },
  {
   "cell_type": "markdown",
   "id": "541551d6",
   "metadata": {},
   "source": []
  },
  {
   "cell_type": "code",
   "execution_count": 15,
   "id": "57abf2c5",
   "metadata": {},
   "outputs": [
    {
     "name": "stdout",
     "output_type": "stream",
     "text": [
      "Escriba su edad: 17\n",
      "Usted es menor de edad, intente nuevamente\n"
     ]
    },
    {
     "ename": "KeyboardInterrupt",
     "evalue": "Interrupted by user",
     "output_type": "error",
     "traceback": [
      "\u001b[1;31m---------------------------------------------------------------------------\u001b[0m",
      "\u001b[1;31mKeyboardInterrupt\u001b[0m                         Traceback (most recent call last)",
      "\u001b[1;32mC:\\Users\\ISAAC~1.CED\\AppData\\Local\\Temp/ipykernel_9936/1159922484.py\u001b[0m in \u001b[0;36m<module>\u001b[1;34m\u001b[0m\n\u001b[0;32m      2\u001b[0m \u001b[1;32mwhile\u001b[0m \u001b[0mnumero\u001b[0m\u001b[1;33m<\u001b[0m\u001b[1;36m18\u001b[0m\u001b[1;33m:\u001b[0m\u001b[1;33m\u001b[0m\u001b[1;33m\u001b[0m\u001b[0m\n\u001b[0;32m      3\u001b[0m     \u001b[0mprint\u001b[0m\u001b[1;33m(\u001b[0m\u001b[1;34m'Usted es menor de edad, intente nuevamente'\u001b[0m\u001b[1;33m)\u001b[0m\u001b[1;33m\u001b[0m\u001b[1;33m\u001b[0m\u001b[0m\n\u001b[1;32m----> 4\u001b[1;33m     \u001b[0mnumero\u001b[0m\u001b[1;33m=\u001b[0m \u001b[0mint\u001b[0m\u001b[1;33m(\u001b[0m\u001b[0minput\u001b[0m\u001b[1;33m(\u001b[0m\u001b[1;34m'Escriba su edad: '\u001b[0m\u001b[1;33m)\u001b[0m\u001b[1;33m)\u001b[0m\u001b[1;33m\u001b[0m\u001b[1;33m\u001b[0m\u001b[0m\n\u001b[0m\u001b[0;32m      5\u001b[0m \u001b[0mprint\u001b[0m\u001b[1;33m(\u001b[0m\u001b[1;34m'Usted es mayor de edad'\u001b[0m\u001b[1;33m)\u001b[0m\u001b[1;33m\u001b[0m\u001b[1;33m\u001b[0m\u001b[0m\n",
      "\u001b[1;32m~\\Anaconda3\\lib\\site-packages\\ipykernel\\kernelbase.py\u001b[0m in \u001b[0;36mraw_input\u001b[1;34m(self, prompt)\u001b[0m\n\u001b[0;32m   1004\u001b[0m                 \u001b[1;34m\"raw_input was called, but this frontend does not support input requests.\"\u001b[0m\u001b[1;33m\u001b[0m\u001b[1;33m\u001b[0m\u001b[0m\n\u001b[0;32m   1005\u001b[0m             )\n\u001b[1;32m-> 1006\u001b[1;33m         return self._input_request(\n\u001b[0m\u001b[0;32m   1007\u001b[0m             \u001b[0mstr\u001b[0m\u001b[1;33m(\u001b[0m\u001b[0mprompt\u001b[0m\u001b[1;33m)\u001b[0m\u001b[1;33m,\u001b[0m\u001b[1;33m\u001b[0m\u001b[1;33m\u001b[0m\u001b[0m\n\u001b[0;32m   1008\u001b[0m             \u001b[0mself\u001b[0m\u001b[1;33m.\u001b[0m\u001b[0m_parent_ident\u001b[0m\u001b[1;33m[\u001b[0m\u001b[1;34m\"shell\"\u001b[0m\u001b[1;33m]\u001b[0m\u001b[1;33m,\u001b[0m\u001b[1;33m\u001b[0m\u001b[1;33m\u001b[0m\u001b[0m\n",
      "\u001b[1;32m~\\Anaconda3\\lib\\site-packages\\ipykernel\\kernelbase.py\u001b[0m in \u001b[0;36m_input_request\u001b[1;34m(self, prompt, ident, parent, password)\u001b[0m\n\u001b[0;32m   1049\u001b[0m             \u001b[1;32mexcept\u001b[0m \u001b[0mKeyboardInterrupt\u001b[0m\u001b[1;33m:\u001b[0m\u001b[1;33m\u001b[0m\u001b[1;33m\u001b[0m\u001b[0m\n\u001b[0;32m   1050\u001b[0m                 \u001b[1;31m# re-raise KeyboardInterrupt, to truncate traceback\u001b[0m\u001b[1;33m\u001b[0m\u001b[1;33m\u001b[0m\u001b[0m\n\u001b[1;32m-> 1051\u001b[1;33m                 \u001b[1;32mraise\u001b[0m \u001b[0mKeyboardInterrupt\u001b[0m\u001b[1;33m(\u001b[0m\u001b[1;34m\"Interrupted by user\"\u001b[0m\u001b[1;33m)\u001b[0m \u001b[1;32mfrom\u001b[0m \u001b[1;32mNone\u001b[0m\u001b[1;33m\u001b[0m\u001b[1;33m\u001b[0m\u001b[0m\n\u001b[0m\u001b[0;32m   1052\u001b[0m             \u001b[1;32mexcept\u001b[0m \u001b[0mException\u001b[0m\u001b[1;33m:\u001b[0m\u001b[1;33m\u001b[0m\u001b[1;33m\u001b[0m\u001b[0m\n\u001b[0;32m   1053\u001b[0m                 \u001b[0mself\u001b[0m\u001b[1;33m.\u001b[0m\u001b[0mlog\u001b[0m\u001b[1;33m.\u001b[0m\u001b[0mwarning\u001b[0m\u001b[1;33m(\u001b[0m\u001b[1;34m\"Invalid Message:\"\u001b[0m\u001b[1;33m,\u001b[0m \u001b[0mexc_info\u001b[0m\u001b[1;33m=\u001b[0m\u001b[1;32mTrue\u001b[0m\u001b[1;33m)\u001b[0m\u001b[1;33m\u001b[0m\u001b[1;33m\u001b[0m\u001b[0m\n",
      "\u001b[1;31mKeyboardInterrupt\u001b[0m: Interrupted by user"
     ]
    }
   ],
   "source": [
    "numero=int(input('Escriba su edad: '))\n",
    "while numero<18:\n",
    "    print('Usted es menor de edad, intente nuevamente')\n",
    "    numero= int(input('Escriba su edad: '))\n",
    "print('Usted es mayor de edad')"
   ]
  },
  {
   "cell_type": "code",
   "execution_count": 23,
   "id": "f7e8b17c",
   "metadata": {},
   "outputs": [],
   "source": [
    "from math import sqrt\n",
    "def Fgeneral(a,b,c):\n",
    "    if((b**2)-4*a*c) < 0:\n",
    "        print('La solución es compleja')\n",
    "    else:\n",
    "        x1=(-b+sqrt(b**2-(4*a*c)))/(2*a)\n",
    "        x2=(-b-sqrt(b**2-(4*a*c)))/(2*a)\n",
    "        print('El valor de x1 es: {0} \\nEl valor de x2 es: {1}'.format(x1,x2))"
   ]
  },
  {
   "cell_type": "code",
   "execution_count": 24,
   "id": "ab61ad8a",
   "metadata": {},
   "outputs": [],
   "source": [
    "def atri(b,h):\n",
    "    if b==None or h==None:\n",
    "        print('Se requiere la base y la altura del triángulo')\n",
    "    return (b*h)/2"
   ]
  },
  {
   "cell_type": "code",
   "execution_count": 21,
   "id": "820984cc",
   "metadata": {},
   "outputs": [
    {
     "ename": "TypeError",
     "evalue": "atri() missing 1 required positional argument: 'h'",
     "output_type": "error",
     "traceback": [
      "\u001b[1;31m---------------------------------------------------------------------------\u001b[0m",
      "\u001b[1;31mTypeError\u001b[0m                                 Traceback (most recent call last)",
      "\u001b[1;32mC:\\Users\\ISAAC~1.CED\\AppData\\Local\\Temp/ipykernel_9936/4165432401.py\u001b[0m in \u001b[0;36m<module>\u001b[1;34m\u001b[0m\n\u001b[1;32m----> 1\u001b[1;33m \u001b[0matri\u001b[0m\u001b[1;33m(\u001b[0m\u001b[1;36m5\u001b[0m\u001b[1;33m,\u001b[0m\u001b[1;33m)\u001b[0m\u001b[1;33m\u001b[0m\u001b[1;33m\u001b[0m\u001b[0m\n\u001b[0m",
      "\u001b[1;31mTypeError\u001b[0m: atri() missing 1 required positional argument: 'h'"
     ]
    }
   ],
   "source": [
    "atri(5,)"
   ]
  },
  {
   "cell_type": "code",
   "execution_count": 27,
   "id": "f3fa53fb",
   "metadata": {},
   "outputs": [
    {
     "name": "stdout",
     "output_type": "stream",
     "text": [
      "El valor de x1 es: -0.6411010564593262 \n",
      "El valor de x2 es: -9.358898943540675\n"
     ]
    }
   ],
   "source": [
    "Fgeneral(10,100,60)"
   ]
  },
  {
   "cell_type": "code",
   "execution_count": null,
   "id": "2d75b188",
   "metadata": {},
   "outputs": [],
   "source": []
  }
 ],
 "metadata": {
  "kernelspec": {
   "display_name": "Python 3 (ipykernel)",
   "language": "python",
   "name": "python3"
  },
  "language_info": {
   "codemirror_mode": {
    "name": "ipython",
    "version": 3
   },
   "file_extension": ".py",
   "mimetype": "text/x-python",
   "name": "python",
   "nbconvert_exporter": "python",
   "pygments_lexer": "ipython3",
   "version": "3.9.7"
  }
 },
 "nbformat": 4,
 "nbformat_minor": 5
}
