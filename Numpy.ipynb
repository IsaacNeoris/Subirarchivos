{
 "cells": [
  {
   "cell_type": "markdown",
   "id": "41e5b0db",
   "metadata": {},
   "source": [
    "# Instalar librerías"
   ]
  },
  {
   "cell_type": "code",
   "execution_count": 1,
   "id": "a6e7d2e5",
   "metadata": {},
   "outputs": [
    {
     "name": "stdout",
     "output_type": "stream",
     "text": [
      "Requirement already satisfied: numpy in c:\\users\\isaac.cedeno\\anaconda3\\envs\\python_fundamentals\\lib\\site-packages (1.19.5)\n"
     ]
    }
   ],
   "source": [
    "!pip install numpy"
   ]
  },
  {
   "cell_type": "markdown",
   "id": "ee3b70ca",
   "metadata": {},
   "source": [
    "# Importar librerías a utilizar en este libro"
   ]
  },
  {
   "cell_type": "code",
   "execution_count": 2,
   "id": "17b4d1d2",
   "metadata": {},
   "outputs": [],
   "source": [
    "import numpy"
   ]
  },
  {
   "cell_type": "code",
   "execution_count": 3,
   "id": "544eb0a6",
   "metadata": {},
   "outputs": [],
   "source": [
    "lista=[1,2,3]"
   ]
  },
  {
   "cell_type": "code",
   "execution_count": 4,
   "id": "a5403276",
   "metadata": {},
   "outputs": [
    {
     "data": {
      "text/plain": [
       "list"
      ]
     },
     "execution_count": 4,
     "metadata": {},
     "output_type": "execute_result"
    }
   ],
   "source": [
    "type(lista)"
   ]
  },
  {
   "cell_type": "markdown",
   "id": "8e615d5d",
   "metadata": {},
   "source": [
    "Crear una matriz a partir de una lista (unidimensional)"
   ]
  },
  {
   "cell_type": "code",
   "execution_count": 5,
   "id": "354129be",
   "metadata": {},
   "outputs": [],
   "source": [
    "matriz=numpy.array(lista) #Forma uno de crear una matriz"
   ]
  },
  {
   "cell_type": "code",
   "execution_count": 6,
   "id": "df652dad",
   "metadata": {},
   "outputs": [
    {
     "data": {
      "text/plain": [
       "numpy.ndarray"
      ]
     },
     "execution_count": 6,
     "metadata": {},
     "output_type": "execute_result"
    }
   ],
   "source": [
    "type(matriz)"
   ]
  },
  {
   "cell_type": "code",
   "execution_count": 7,
   "id": "837fb491",
   "metadata": {},
   "outputs": [
    {
     "data": {
      "text/plain": [
       "array([1, 2, 3])"
      ]
     },
     "execution_count": 7,
     "metadata": {},
     "output_type": "execute_result"
    }
   ],
   "source": [
    "matriz"
   ]
  },
  {
   "cell_type": "code",
   "execution_count": 8,
   "id": "09a19935",
   "metadata": {},
   "outputs": [],
   "source": [
    "import numpy as np"
   ]
  },
  {
   "cell_type": "code",
   "execution_count": 9,
   "id": "c4bb3253",
   "metadata": {},
   "outputs": [],
   "source": [
    "matriz2=np.array(lista)"
   ]
  },
  {
   "cell_type": "code",
   "execution_count": 10,
   "id": "9438c6dc",
   "metadata": {},
   "outputs": [
    {
     "data": {
      "text/plain": [
       "array([1, 2, 3])"
      ]
     },
     "execution_count": 10,
     "metadata": {},
     "output_type": "execute_result"
    }
   ],
   "source": [
    "matriz2"
   ]
  },
  {
   "cell_type": "code",
   "execution_count": 11,
   "id": "0ce9c66f",
   "metadata": {},
   "outputs": [
    {
     "data": {
      "text/plain": [
       "1"
      ]
     },
     "execution_count": 11,
     "metadata": {},
     "output_type": "execute_result"
    }
   ],
   "source": [
    "matriz.ndim"
   ]
  },
  {
   "cell_type": "code",
   "execution_count": 12,
   "id": "44b769bd",
   "metadata": {},
   "outputs": [
    {
     "data": {
      "text/plain": [
       "(3,)"
      ]
     },
     "execution_count": 12,
     "metadata": {},
     "output_type": "execute_result"
    }
   ],
   "source": [
    "matriz.shape"
   ]
  },
  {
   "cell_type": "code",
   "execution_count": 13,
   "id": "9b9cd33c",
   "metadata": {},
   "outputs": [],
   "source": [
    "lista3=[1.0,True,\"a\",3]"
   ]
  },
  {
   "cell_type": "code",
   "execution_count": 14,
   "id": "63e9e335",
   "metadata": {},
   "outputs": [],
   "source": [
    "matriz3=np.array(lista3)"
   ]
  },
  {
   "cell_type": "code",
   "execution_count": 15,
   "id": "f3fe90a6",
   "metadata": {},
   "outputs": [
    {
     "data": {
      "text/plain": [
       "array(['1.0', 'True', 'a', '3'], dtype='<U32')"
      ]
     },
     "execution_count": 15,
     "metadata": {},
     "output_type": "execute_result"
    }
   ],
   "source": [
    "matriz3"
   ]
  },
  {
   "cell_type": "code",
   "execution_count": 16,
   "id": "2de94b2f",
   "metadata": {},
   "outputs": [
    {
     "name": "stdout",
     "output_type": "stream",
     "text": [
      "<U32\n"
     ]
    }
   ],
   "source": [
    "print(matriz3.dtype)"
   ]
  },
  {
   "cell_type": "code",
   "execution_count": 17,
   "id": "0cb7ecd3",
   "metadata": {},
   "outputs": [
    {
     "name": "stdout",
     "output_type": "stream",
     "text": [
      "int32\n"
     ]
    }
   ],
   "source": [
    "print(matriz2.dtype)"
   ]
  },
  {
   "cell_type": "markdown",
   "id": "64ce8ddb",
   "metadata": {},
   "source": [
    "## Las matrices sólo pueden tener un tipo de dato"
   ]
  },
  {
   "cell_type": "code",
   "execution_count": 18,
   "id": "1ca2119d",
   "metadata": {},
   "outputs": [],
   "source": [
    "matriz4=np.array([1,2,3], dtype=\"float\") #Segunda manera de crear una matriz (Escribir dentro de np.array)"
   ]
  },
  {
   "cell_type": "code",
   "execution_count": 19,
   "id": "d52d5ce6",
   "metadata": {},
   "outputs": [
    {
     "data": {
      "text/plain": [
       "array([1., 2., 3.])"
      ]
     },
     "execution_count": 19,
     "metadata": {},
     "output_type": "execute_result"
    }
   ],
   "source": [
    "matriz4"
   ]
  },
  {
   "cell_type": "code",
   "execution_count": 20,
   "id": "e79da45c",
   "metadata": {},
   "outputs": [
    {
     "data": {
      "text/plain": [
       "dtype('float64')"
      ]
     },
     "execution_count": 20,
     "metadata": {},
     "output_type": "execute_result"
    }
   ],
   "source": [
    "matriz4.dtype"
   ]
  },
  {
   "cell_type": "code",
   "execution_count": 21,
   "id": "78e7546f",
   "metadata": {},
   "outputs": [],
   "source": [
    "matriz5=np.array([1,2,3], dtype=\"float16\")"
   ]
  },
  {
   "cell_type": "code",
   "execution_count": 22,
   "id": "3d8158a3",
   "metadata": {},
   "outputs": [
    {
     "data": {
      "text/plain": [
       "dtype('float16')"
      ]
     },
     "execution_count": 22,
     "metadata": {},
     "output_type": "execute_result"
    }
   ],
   "source": [
    "matriz5.dtype"
   ]
  },
  {
   "cell_type": "markdown",
   "id": "eab9961c",
   "metadata": {},
   "source": [
    "# Operaciones con matrices"
   ]
  },
  {
   "cell_type": "markdown",
   "id": "354611b4",
   "metadata": {},
   "source": [
    "## Crear listas"
   ]
  },
  {
   "cell_type": "code",
   "execution_count": 23,
   "id": "503698b1",
   "metadata": {},
   "outputs": [],
   "source": [
    "m=[1,2,3]\n",
    "n=[3,4,5]"
   ]
  },
  {
   "cell_type": "code",
   "execution_count": 24,
   "id": "9541c105",
   "metadata": {},
   "outputs": [
    {
     "data": {
      "text/plain": [
       "[1, 2, 3, 3, 4, 5]"
      ]
     },
     "execution_count": 24,
     "metadata": {},
     "output_type": "execute_result"
    }
   ],
   "source": [
    "m+n #Al sumar dos listas las coloca una detrás de otra"
   ]
  },
  {
   "cell_type": "code",
   "execution_count": 25,
   "id": "3781a3e5",
   "metadata": {},
   "outputs": [],
   "source": [
    "matriz_m=np.array(m)\n",
    "matriz_n=np.array(n)"
   ]
  },
  {
   "cell_type": "code",
   "execution_count": 26,
   "id": "bb0d2565",
   "metadata": {},
   "outputs": [
    {
     "data": {
      "text/plain": [
       "array([4, 6, 8])"
      ]
     },
     "execution_count": 26,
     "metadata": {},
     "output_type": "execute_result"
    }
   ],
   "source": [
    "matriz_m+matriz_n"
   ]
  },
  {
   "cell_type": "code",
   "execution_count": 27,
   "id": "8c05e52a",
   "metadata": {},
   "outputs": [],
   "source": [
    "# Matriz tiene índices [a,b,c]"
   ]
  },
  {
   "cell_type": "code",
   "execution_count": 28,
   "id": "d1b173b8",
   "metadata": {},
   "outputs": [
    {
     "data": {
      "text/plain": [
       "array([1, 4, 9], dtype=int32)"
      ]
     },
     "execution_count": 28,
     "metadata": {},
     "output_type": "execute_result"
    }
   ],
   "source": [
    "np.square(matriz_m)"
   ]
  },
  {
   "cell_type": "code",
   "execution_count": 29,
   "id": "f9e975d9",
   "metadata": {},
   "outputs": [
    {
     "data": {
      "text/plain": [
       "1"
      ]
     },
     "execution_count": 29,
     "metadata": {},
     "output_type": "execute_result"
    }
   ],
   "source": [
    "matriz_m[0]"
   ]
  },
  {
   "cell_type": "code",
   "execution_count": 30,
   "id": "fc4fdb30",
   "metadata": {},
   "outputs": [
    {
     "data": {
      "text/plain": [
       "3"
      ]
     },
     "execution_count": 30,
     "metadata": {},
     "output_type": "execute_result"
    }
   ],
   "source": [
    "matriz_m[-1]"
   ]
  },
  {
   "cell_type": "code",
   "execution_count": 31,
   "id": "8c8918fd",
   "metadata": {},
   "outputs": [
    {
     "data": {
      "text/plain": [
       "1"
      ]
     },
     "execution_count": 31,
     "metadata": {},
     "output_type": "execute_result"
    }
   ],
   "source": [
    "matriz_m[-3]"
   ]
  },
  {
   "cell_type": "code",
   "execution_count": 32,
   "id": "ade63664",
   "metadata": {},
   "outputs": [],
   "source": [
    "matriz_m[0] = True"
   ]
  },
  {
   "cell_type": "code",
   "execution_count": 33,
   "id": "4cb316f7",
   "metadata": {},
   "outputs": [
    {
     "data": {
      "text/plain": [
       "array([1, 2, 3])"
      ]
     },
     "execution_count": 33,
     "metadata": {},
     "output_type": "execute_result"
    }
   ],
   "source": [
    "matriz_m"
   ]
  },
  {
   "cell_type": "code",
   "execution_count": 34,
   "id": "34da4053",
   "metadata": {},
   "outputs": [],
   "source": [
    "matriz_m[1] = True"
   ]
  },
  {
   "cell_type": "code",
   "execution_count": 35,
   "id": "6a579643",
   "metadata": {},
   "outputs": [
    {
     "data": {
      "text/plain": [
       "array([1, 1, 3])"
      ]
     },
     "execution_count": 35,
     "metadata": {},
     "output_type": "execute_result"
    }
   ],
   "source": [
    "matriz_m"
   ]
  },
  {
   "cell_type": "code",
   "execution_count": 36,
   "id": "93fdc7a1",
   "metadata": {},
   "outputs": [
    {
     "ename": "ValueError",
     "evalue": "invalid literal for int() with base 10: 'abc'",
     "output_type": "error",
     "traceback": [
      "\u001b[1;31m---------------------------------------------------------------------------\u001b[0m",
      "\u001b[1;31mValueError\u001b[0m                                Traceback (most recent call last)",
      "\u001b[1;32m<ipython-input-36-a0ff7a1136c1>\u001b[0m in \u001b[0;36m<module>\u001b[1;34m\u001b[0m\n\u001b[1;32m----> 1\u001b[1;33m \u001b[0mmatriz_m\u001b[0m\u001b[1;33m[\u001b[0m\u001b[1;36m0\u001b[0m\u001b[1;33m]\u001b[0m\u001b[1;33m=\u001b[0m \u001b[1;34m\"abc\"\u001b[0m\u001b[1;33m\u001b[0m\u001b[1;33m\u001b[0m\u001b[0m\n\u001b[0m",
      "\u001b[1;31mValueError\u001b[0m: invalid literal for int() with base 10: 'abc'"
     ]
    }
   ],
   "source": [
    "matriz_m[0]= \"abc\""
   ]
  },
  {
   "cell_type": "code",
   "execution_count": 38,
   "id": "ab4e116b",
   "metadata": {},
   "outputs": [],
   "source": [
    "matriz_o=np.array([6,7,8,9])"
   ]
  },
  {
   "cell_type": "code",
   "execution_count": 39,
   "id": "53c758f8",
   "metadata": {},
   "outputs": [
    {
     "data": {
      "text/plain": [
       "array([6, 7, 8, 9])"
      ]
     },
     "execution_count": 39,
     "metadata": {},
     "output_type": "execute_result"
    }
   ],
   "source": [
    "matriz_o"
   ]
  },
  {
   "cell_type": "code",
   "execution_count": 40,
   "id": "e547385c",
   "metadata": {},
   "outputs": [
    {
     "data": {
      "text/plain": [
       "array([1, 1, 3])"
      ]
     },
     "execution_count": 40,
     "metadata": {},
     "output_type": "execute_result"
    }
   ],
   "source": [
    "matriz_m"
   ]
  },
  {
   "cell_type": "code",
   "execution_count": 41,
   "id": "fb2442df",
   "metadata": {},
   "outputs": [
    {
     "ename": "ValueError",
     "evalue": "operands could not be broadcast together with shapes (3,) (4,) ",
     "output_type": "error",
     "traceback": [
      "\u001b[1;31m---------------------------------------------------------------------------\u001b[0m",
      "\u001b[1;31mValueError\u001b[0m                                Traceback (most recent call last)",
      "\u001b[1;32m<ipython-input-41-57f21ee6cc9a>\u001b[0m in \u001b[0;36m<module>\u001b[1;34m\u001b[0m\n\u001b[1;32m----> 1\u001b[1;33m \u001b[0mmatriz_m\u001b[0m\u001b[1;33m+\u001b[0m\u001b[0mmatriz_o\u001b[0m\u001b[1;33m\u001b[0m\u001b[1;33m\u001b[0m\u001b[0m\n\u001b[0m",
      "\u001b[1;31mValueError\u001b[0m: operands could not be broadcast together with shapes (3,) (4,) "
     ]
    }
   ],
   "source": [
    "matriz_m+matriz_o"
   ]
  },
  {
   "cell_type": "code",
   "execution_count": 44,
   "id": "22b3ed2c",
   "metadata": {},
   "outputs": [],
   "source": [
    "matriz_negativos=matriz_m-matriz_n"
   ]
  },
  {
   "cell_type": "code",
   "execution_count": 45,
   "id": "84e4957c",
   "metadata": {},
   "outputs": [
    {
     "data": {
      "text/plain": [
       "array([2, 3, 2])"
      ]
     },
     "execution_count": 45,
     "metadata": {},
     "output_type": "execute_result"
    }
   ],
   "source": [
    "np.absolute(matriz_negativos)"
   ]
  },
  {
   "cell_type": "code",
   "execution_count": 46,
   "id": "061b32f0",
   "metadata": {},
   "outputs": [
    {
     "data": {
      "text/plain": [
       "array([3, 4, 5])"
      ]
     },
     "execution_count": 46,
     "metadata": {},
     "output_type": "execute_result"
    }
   ],
   "source": [
    "np.maximum(matriz_m,matriz_n)"
   ]
  },
  {
   "cell_type": "code",
   "execution_count": 47,
   "id": "88d937e3",
   "metadata": {},
   "outputs": [
    {
     "data": {
      "text/plain": [
       "array([1, 1, 3])"
      ]
     },
     "execution_count": 47,
     "metadata": {},
     "output_type": "execute_result"
    }
   ],
   "source": [
    "np.minimum(matriz_m,matriz_n)"
   ]
  },
  {
   "cell_type": "code",
   "execution_count": 48,
   "id": "f0d12eb1",
   "metadata": {},
   "outputs": [
    {
     "ename": "ValueError",
     "evalue": "operands could not be broadcast together with shapes (3,) (4,) ",
     "output_type": "error",
     "traceback": [
      "\u001b[1;31m---------------------------------------------------------------------------\u001b[0m",
      "\u001b[1;31mValueError\u001b[0m                                Traceback (most recent call last)",
      "\u001b[1;32m<ipython-input-48-c9511f8d592b>\u001b[0m in \u001b[0;36m<module>\u001b[1;34m\u001b[0m\n\u001b[1;32m----> 1\u001b[1;33m \u001b[0mnp\u001b[0m\u001b[1;33m.\u001b[0m\u001b[0mmaximum\u001b[0m\u001b[1;33m(\u001b[0m\u001b[0mmatriz_m\u001b[0m\u001b[1;33m,\u001b[0m\u001b[0mmatriz_o\u001b[0m\u001b[1;33m)\u001b[0m\u001b[1;33m\u001b[0m\u001b[1;33m\u001b[0m\u001b[0m\n\u001b[0m",
      "\u001b[1;31mValueError\u001b[0m: operands could not be broadcast together with shapes (3,) (4,) "
     ]
    }
   ],
   "source": [
    "np.maximum(matriz_m,matriz_o)"
   ]
  },
  {
   "cell_type": "code",
   "execution_count": 49,
   "id": "2f70fb34",
   "metadata": {},
   "outputs": [
    {
     "data": {
      "text/plain": [
       "array([1, 1, 3])"
      ]
     },
     "execution_count": 49,
     "metadata": {},
     "output_type": "execute_result"
    }
   ],
   "source": [
    "matriz_m"
   ]
  },
  {
   "cell_type": "code",
   "execution_count": 51,
   "id": "5f225d57",
   "metadata": {},
   "outputs": [
    {
     "data": {
      "text/plain": [
       "array([1, 1, 3])"
      ]
     },
     "execution_count": 51,
     "metadata": {},
     "output_type": "execute_result"
    }
   ],
   "source": [
    "matriz_m.sort()\n",
    "matriz_m"
   ]
  },
  {
   "cell_type": "code",
   "execution_count": 58,
   "id": "4ae6fdbc",
   "metadata": {},
   "outputs": [
    {
     "ename": "TypeError",
     "evalue": "'reversed' is an invalid keyword argument for this function",
     "output_type": "error",
     "traceback": [
      "\u001b[1;31m---------------------------------------------------------------------------\u001b[0m",
      "\u001b[1;31mTypeError\u001b[0m                                 Traceback (most recent call last)",
      "\u001b[1;32m<ipython-input-58-28aa50d87d2f>\u001b[0m in \u001b[0;36m<module>\u001b[1;34m\u001b[0m\n\u001b[1;32m----> 1\u001b[1;33m \u001b[0mmatriz_m\u001b[0m\u001b[1;33m.\u001b[0m\u001b[0msort\u001b[0m\u001b[1;33m(\u001b[0m\u001b[0mreversed\u001b[0m\u001b[1;33m=\u001b[0m\u001b[1;32mTrue\u001b[0m\u001b[1;33m)\u001b[0m\u001b[1;33m\u001b[0m\u001b[1;33m\u001b[0m\u001b[0m\n\u001b[0m\u001b[0;32m      2\u001b[0m \u001b[0mmatriz_m\u001b[0m\u001b[1;33m\u001b[0m\u001b[1;33m\u001b[0m\u001b[0m\n",
      "\u001b[1;31mTypeError\u001b[0m: 'reversed' is an invalid keyword argument for this function"
     ]
    }
   ],
   "source": [
    "matriz_m.sort()\n",
    "matriz_m"
   ]
  },
  {
   "cell_type": "code",
   "execution_count": null,
   "id": "893e2c5d",
   "metadata": {},
   "outputs": [],
   "source": []
  }
 ],
 "metadata": {
  "kernelspec": {
   "display_name": "Python 3",
   "language": "python",
   "name": "python3"
  },
  "language_info": {
   "codemirror_mode": {
    "name": "ipython",
    "version": 3
   },
   "file_extension": ".py",
   "mimetype": "text/x-python",
   "name": "python",
   "nbconvert_exporter": "python",
   "pygments_lexer": "ipython3",
   "version": "3.6.13"
  }
 },
 "nbformat": 4,
 "nbformat_minor": 5
}
